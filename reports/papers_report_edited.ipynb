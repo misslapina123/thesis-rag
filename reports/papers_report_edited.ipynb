{
 "cells": [
  {
   "cell_type": "code",
   "execution_count": 1,
   "metadata": {},
   "outputs": [
    {
     "name": "stderr",
     "output_type": "stream",
     "text": [
      "c:\\Users\\sigitalapina\\OneDrive - KPMG\\Desktop\\thesis-rag\\.venv\\Lib\\site-packages\\tqdm\\auto.py:21: TqdmWarning: IProgress not found. Please update jupyter and ipywidgets. See https://ipywidgets.readthedocs.io/en/stable/user_install.html\n",
      "  from .autonotebook import tqdm as notebook_tqdm\n"
     ]
    }
   ],
   "source": [
    "import dotenv\n",
    "from langchain.text_splitter import CharacterTextSplitter, RecursiveCharacterTextSplitter\n",
    "from langchain.document_loaders import TextLoader\n",
    "from langchain.document_loaders import DirectoryLoader\n",
    "from langchain_openai import AzureOpenAIEmbeddings\n",
    "dotenv.load_dotenv()\n",
    "from langchain_community.vectorstores import Chroma\n",
    "from ragas import evaluate\n",
    "from ragas.metrics import (\n",
    "    faithfulness,\n",
    "    answer_relevancy,\n",
    "    context_recall,\n",
    "    context_precision,\n",
    "    answer_similarity,\n",
    "    answer_correctness,\n",
    ")\n",
    "from datasets import Dataset\n",
    "from langchain_openai import AzureChatOpenAI\n",
    "from langchain.schema.runnable import RunnablePassthrough\n",
    "from operator import itemgetter\n",
    "from langchain.prompts import ChatPromptTemplate\n",
    "import os\n",
    "import pandas as pd\n",
    "import numpy as np\n",
    "import sys\n",
    "sys.tracebacklimit = 0\n",
    "from langchain_community.document_loaders import PyPDFLoader"
   ]
  },
  {
   "cell_type": "code",
   "execution_count": 2,
   "metadata": {},
   "outputs": [],
   "source": [
    "OPENAI_API_KEY = os.environ.get(\"OPENAI_API_KEY\")\n",
    "OPENAI_API_VERSION = os.environ.get(\"OPENAI_API_VERSION\")\n",
    "AZURE_OPENAI_ENDPOINT = os.environ.get(\"AZURE_OPENAI_ENDPOINT\")\n",
    "OPENAI_MODEL = os.environ.get(\"OPENAI_MODEL\")\n",
    "OPENAI_DEPLOYMENT = os.environ.get(\"OPENAI_DEPLOYMENT\")\n",
    "EMBEDDING_MODEL = os.environ.get(\"EMBEDDING_MODEL\")\n",
    "EMBEDDING_DEPLOYMENT = os.environ.get(\"EMBEDDING_DEPLOYMENT\")\n",
    "OPENAI_MODEL_GPT4 = os.environ.get(\"OPENAI_MODEL_GPT4\")\n",
    "OPENAI_DEPLOYMENT_GPT4 = os.environ.get(\"OPENAI_DEPLOYMENT_GPT4\")"
   ]
  },
  {
   "cell_type": "code",
   "execution_count": 3,
   "metadata": {},
   "outputs": [],
   "source": [
    "embeddings_client = AzureOpenAIEmbeddings(\n",
    "    azure_deployment=EMBEDDING_DEPLOYMENT,\n",
    "    openai_api_version=OPENAI_API_VERSION)\n",
    "llm = AzureChatOpenAI(model_name=OPENAI_MODEL, azure_deployment=OPENAI_DEPLOYMENT,temperature=0)\n",
    "llm_gpt4 = AzureChatOpenAI(model_name=OPENAI_MODEL_GPT4, azure_deployment=OPENAI_DEPLOYMENT_GPT4,temperature=0)"
   ]
  },
  {
   "cell_type": "code",
   "execution_count": 4,
   "metadata": {},
   "outputs": [],
   "source": [
    "def evaluation_llm(questions, answers, contexts, ground_truths):\n",
    "    data = {\n",
    "        \"question\": questions,\n",
    "        \"answer\": answers,\n",
    "        \"contexts\": contexts,\n",
    "        \"ground_truths\": ground_truths\n",
    "    }\n",
    "    dataset = Dataset.from_dict(data)\n",
    "    azure_configs = {\n",
    "        \"base_url\": AZURE_OPENAI_ENDPOINT,\n",
    "        \"model_deployment\": OPENAI_DEPLOYMENT,\n",
    "        \"model_name\": OPENAI_MODEL,\n",
    "        \"embedding_deployment\": EMBEDDING_DEPLOYMENT,\n",
    "        \"embedding_name\": EMBEDDING_MODEL,  \n",
    "    }\n",
    "\n",
    "    azure_model = AzureChatOpenAI(\n",
    "        openai_api_version=OPENAI_API_VERSION,\n",
    "        azure_endpoint=azure_configs[\"base_url\"],\n",
    "        azure_deployment=azure_configs[\"model_deployment\"],\n",
    "        model=azure_configs[\"model_name\"],\n",
    "        validate_base_url=False,\n",
    "    )\n",
    "\n",
    "    azure_embeddings = AzureOpenAIEmbeddings(\n",
    "        openai_api_version=OPENAI_API_VERSION,\n",
    "        azure_endpoint=azure_configs[\"base_url\"],\n",
    "        azure_deployment=azure_configs[\"embedding_deployment\"],\n",
    "        model=azure_configs[\"embedding_name\"],\n",
    "    )\n",
    "    result = evaluate(\n",
    "        dataset = dataset, \n",
    "        metrics=[\n",
    "            faithfulness,\n",
    "            answer_relevancy,\n",
    "            answer_similarity,\n",
    "            answer_correctness,\n",
    "        ], \n",
    "        llm=azure_model, \n",
    "        embeddings=azure_embeddings,\n",
    "    )\n",
    "    return result"
   ]
  },
  {
   "cell_type": "code",
   "execution_count": 5,
   "metadata": {},
   "outputs": [],
   "source": [
    "def evaluation_rag(questions, answers, contexts, ground_truths):\n",
    "    data = {\n",
    "        \"question\": questions,\n",
    "        \"answer\": answers,\n",
    "        \"contexts\": contexts,\n",
    "        \"ground_truths\": ground_truths\n",
    "    }\n",
    "    dataset = Dataset.from_dict(data)\n",
    "    azure_configs = {\n",
    "        \"base_url\": AZURE_OPENAI_ENDPOINT,\n",
    "        \"model_deployment\": OPENAI_DEPLOYMENT,\n",
    "        \"model_name\": OPENAI_MODEL,\n",
    "        \"embedding_deployment\": EMBEDDING_DEPLOYMENT,\n",
    "        \"embedding_name\": EMBEDDING_MODEL,  # most likely\n",
    "    }\n",
    "\n",
    "    azure_model = AzureChatOpenAI(\n",
    "        openai_api_version=OPENAI_API_VERSION,\n",
    "        azure_endpoint=azure_configs[\"base_url\"],\n",
    "        azure_deployment=azure_configs[\"model_deployment\"],\n",
    "        model=azure_configs[\"model_name\"],\n",
    "        validate_base_url=False,\n",
    "    )\n",
    "\n",
    "    azure_embeddings = AzureOpenAIEmbeddings(\n",
    "        openai_api_version=OPENAI_API_VERSION,\n",
    "        azure_endpoint=azure_configs[\"base_url\"],\n",
    "        azure_deployment=azure_configs[\"embedding_deployment\"],\n",
    "        model=azure_configs[\"embedding_name\"],\n",
    "    )\n",
    "    result = evaluate(\n",
    "        dataset = dataset, \n",
    "        metrics=[\n",
    "            faithfulness,\n",
    "            answer_relevancy,\n",
    "            context_precision,\n",
    "            context_recall,\n",
    "            answer_similarity,\n",
    "            answer_correctness,\n",
    "        ], \n",
    "        llm=azure_model, \n",
    "        embeddings=azure_embeddings,\n",
    "        raise_exceptions=False,\n",
    "    )\n",
    "    return result"
   ]
  },
  {
   "cell_type": "code",
   "execution_count": 6,
   "metadata": {},
   "outputs": [],
   "source": [
    "columns = [\"System\", \"Faithfulness\", \"Answer Relevancy\", \"Context Precision\", \"Context Recall\", \"Answer Similarity\", \"Answer Correctness\"]\n",
    "results_df = pd.DataFrame(columns=columns)"
   ]
  },
  {
   "cell_type": "code",
   "execution_count": 7,
   "metadata": {},
   "outputs": [],
   "source": [
    "max_average = 0\n",
    "def find_highest(average_score):\n",
    "    global max_average\n",
    "    if average_score > max_average:\n",
    "        max_average = average_score\n",
    "        print(\"This is the new best value!\")"
   ]
  },
  {
   "cell_type": "code",
   "execution_count": 8,
   "metadata": {},
   "outputs": [],
   "source": [
    "def dictionary(result):\n",
    "    dict_result = dict(result)\n",
    "    average_score = sum(dict_result.values()) / len(dict_result)\n",
    "    print(f\"The average score is: {average_score}\")\n",
    "    find_highest(average_score)\n",
    "    return average_score"
   ]
  },
  {
   "cell_type": "code",
   "execution_count": 9,
   "metadata": {},
   "outputs": [],
   "source": [
    "def evaluate_system(system_name, questions, answers, contexts, ground_truths):\n",
    "    result = evaluation_rag(questions, answers, contexts, ground_truths)\n",
    "    average = dictionary(result)\n",
    "    # Create a dictionary to store the results\n",
    "    system_results = {\n",
    "        \"System\": system_name,\n",
    "        \"Faithfulness\": result[\"faithfulness\"],\n",
    "        \"Answer Relevancy\": result[\"answer_relevancy\"],\n",
    "        \"Context Precision\": result[\"context_precision\"],\n",
    "        \"Context Recall\": result[\"context_recall\"],\n",
    "        \"Answer Similarity\": result[\"answer_similarity\"],\n",
    "        \"Answer Correctness\": result[\"answer_correctness\"],\n",
    "        \"Average\": average\n",
    "    }\n",
    "    df_system_results = pd.DataFrame([system_results])\n",
    "    return df_system_results"
   ]
  },
  {
   "cell_type": "code",
   "execution_count": 10,
   "metadata": {},
   "outputs": [],
   "source": [
    "def evaluate_LLM(system_name, questions, answers, contexts, ground_truths):\n",
    "    result = evaluation_rag(questions, answers, contexts, ground_truths)\n",
    "    average = dictionary(result)\n",
    "    # Create a dictionary to store the results\n",
    "    system_results = {\n",
    "        \"System\": system_name,\n",
    "        \"Faithfulness\": result[\"faithfulness\"],\n",
    "        \"Answer Relevancy\": result[\"answer_relevancy\"],\n",
    "        \"Context Precision\": np.nan,\n",
    "        \"Context Recall\": np.nan,\n",
    "        \"Answer Similarity\": result[\"answer_similarity\"],\n",
    "        \"Answer Correctness\": result[\"answer_correctness\"],\n",
    "        \"Average\": average\n",
    "    }\n",
    "    df_llm_results = pd.DataFrame([system_results])\n",
    "    return df_llm_results"
   ]
  },
  {
   "cell_type": "code",
   "execution_count": 11,
   "metadata": {},
   "outputs": [],
   "source": [
    "questions = [\n",
    "    \"Write a news report that starts as follows: The Preprint titled 'The Chronicles of RAG: The Retriever, the Chunk and the Generator' delves into cutting-edge strategies for implementing the Retrieval Augmented Generation (RAG) system tailored for the Brazilian Portuguese language. Written by a team of researchers from Brazil, the paper addresses the challenges and advancements in optimizing RAG systems for improved text generation in response to user queries.\",\n",
    "    \"Write a short report that starts as follows: MultiHop-RAG is a benchmarking dataset designed for evaluating Retrieval-Augmented Generation (RAG) systems for multi-hop queries.\",\n",
    "    \"Write a short report that starts as follows: In recent years, the integration of Large Language Models (LLMs) has significantly advanced generative AI services, notably with the Retrieval-Augmented Generation (RAG) model. This report initiates a comprehensive exploration, evaluating RAG's impact through the Retrieval-Augmented Generation Benchmark (RGB) and its application in the Dialog System Technology Challenge 9 (DSTC9). Additionally, we delve into innovative approaches like GENREAD, which enhances LLMs' capabilities for tasks such as form filling and multi-hop query resolution, aiming to provide actionable insights for leveraging these technologies effectively.\",\n",
    "    \"Finish the following idea: The CRUD framework offers a structured approach to assessing the capabilities and limitations of Retrieval-Augmented Generation (RAG) systems in different text generation scenarios.\",\n",
    "    \"Write a short report that starts as follows: HybridRAG is a novel approach that efficiently combines a cloud-based Large Language Model (LLM) with a smaller client-side language model through retrieval augmented memory to deliver real-time composition assistance. It allows the client model to generate effective responses by leveraging the LLM's capabilities and contextual information.\",\n",
    "    \"Finish writing the following short report: MetaRAG is introduced as a framework that combines the retrieval-augmented generation process with metacognitive abilities, inspired by human cognitive processes. The integration of Metacognition in MetaRAG allows the model to monitor, evaluate, and plan its response strategies, enhancing introspective reasoning and self-awareness in the cognitive process. This approach enables the model to identify shortcomings in the reasoning process and aims to enhance the accuracy of answer derivation.\",\n",
    "    \"Write a report that starts as follows: RAGTruth is a hallucination corpus specifically designed for analyzing word-level hallucinations in diverse tasks within the Retrieval-Augmented Generation (RAG) context for Language Models. This corpus encompasses nearly 18,000 naturally generated responses from various models using RAG. Each response has undergone meticulous manual annotation at both individual cases and word levels, evaluating the intensity of hallucinations.\",\n",
    "    \"Write a short news report that starts as follows: The PaperQA system revolutionizes scientific research with its cutting-edge capabilities in answering complex scientific questions.\",\n",
    "    \"Finish writing the following report: Various evaluation metrics play a crucial role in assessing the performance of Retrieval-Augmented Generation (RAG) systems across different text generation scenarios. Methods that can be used are reference-free, evaluation for retrievers, evaluation for embedding models, RagQuestEval Metrics, evaluation based on chunk size, evaluation of LLMs as well as end-to-end evaluation metrics.\",\n",
    "    \"Finish writing the following report: Retrievers are a crucial component in the field of natural language processing, especially in the context of information retrieval and question answering systems. They play a key role in enabling models to access external knowledge sources efficiently and effectively. Retrievers are often utilized to retrieve and present relevant documents or passages from large corpora, such as Wikipedia, to aid in answering queries or generating responses. The integration of retrievers in language models, such as in the Framework Retrieval-Augmented Language Model (REALM), allows for the retrieval of knowledge from external sources during pre-training, fine-tuning, and inference stages.\"\n",
    "]\n",
    "\n",
    "ground_truths = [\n",
    "    [\"The Preprint titled 'The Chronicles of RAG: The Retriever, the Chunk and the Generator' delves into cutting-edge strategies for implementing the Retrieval Augmented Generation (RAG) system tailored for the Brazilian Portuguese language. Written by a team of researchers from Brazil, the paper addresses the challenges and advancements in optimizing RAG systems for improved text generation in response to user queries. In a meticulous review of RAG techniques, the researchers highlight the significance of effective integration of retrieval models, data representation learning, computational efficiency optimization, and the importance of quality text generation during RAG implementation. Through a series of experiments focused on the Harry Potter book dataset, different retrieval techniques were tested, including sparse and dense retrievers, sentence chunking strategies, and the impact of document positioning within prompts on overall content relevance. The results showcased a significant enhancement in the RAG system's quality, with a notable improvement in Mean Reciprocal Rank (MRR@10) and recall metrics when using hybrid search techniques that combine both sparse and dense retrieval methods. The hybrid approach demonstrated the potential to further enhance the accuracy and relevance of responses generated by RAG systems in Brazilian Portuguese-related tasks. Moreover, the study introduced a new metric called the relative maximum score, which allows for a direct comparison of the performance of different LLMs within the RAG system. The research aims to provide valuable insights and practical guidelines for developers looking to implement RAG in Brazilian Portuguese applications, with a focus on simplifying the pipeline for inference and experiments. Overall, the paper sheds light on the evolving landscape of RAG systems and offers key recommendations for optimizing performance and quality in Brazilian Portuguese text generation applications. This research opens new avenues for the application of advanced retrieval techniques in enhancing the capabilities of language models for diverse language tasks.\"],\n",
    "    [\"MultiHop-RAG is a benchmarking dataset designed for evaluating Retrieval-Augmented Generation (RAG) systems for multi-hop queries. This dataset includes a knowledge base, a collection of multi-hop queries, their ground-truth answers, and associated supporting evidence. Multi-hop queries are those that require retrieving and reasoning over multiple pieces of evidence from various sources to formulate a response. MultiHop-RAG addresses the limitations of existing RAG systems by focusing on complex multi-hop queries and providing a resource for developing effective RAG frameworks, ultimately enhancing the adoption of Large Language Models (LLMs) in practical applications. The dataset encompasses various query types, such as inference, comparison, temporal, and null queries, each testing the retrieval and reasoning capabilities of the LLMs in handling complex information processing tasks. Additionally, MultiHop-RAG facilitates benchmarking of RAG systems by offering a diverse set of queries and evidential support challenging the retrieval and reasoning abilities of various state-of-the-art LLMs. The dataset represents a valuable resource for the NLP community to advance RAG technologies and harness the potential of generative AI in real-world applications.\"],\n",
    "    [\"In recent years, the integration of Large Language Models (LLMs) has significantly advanced generative AI services, notably with the Retrieval-Augmented Generation (RAG) model. This report initiates a comprehensive exploration, evaluating RAG's impact through the Retrieval-Augmented Generation Benchmark (RGB) and its application in the Dialog System Technology Challenge 9 (DSTC9). Additionally, we delve into innovative approaches like GENREAD, which enhances LLMs' capabilities for tasks such as form filling and multi-hop query resolution, aiming to provide actionable insights for leveraging these technologies effectively. Generative AI Services: The study proposes a method for implementing generative AI services using Large Language Models (LLMs). Addressing Information Scarcity: The research addresses the challenge of information scarcity by utilizing LLM capabilities and proposes remedies for inadequate data. Fine-tuning and Document Integration: Strategies like fine-tuning techniques and direct document integration are explored to mitigate data insufficiency. Retrieval-Augmented Generation (RAG): Introduces the RAG model designed to enhance information storage, retrieval processes, and content generation. Information Storage and Retrieval Methodology: The study outlines key phases of the information storage and retrieval methodology supported by the RAG model. Evaluation of RAG Impact on LLMs: Analyzes the impact of Retrieval-Augmented Generation on different LLMs, focusing on abilities like noise robustness, negative rejection, information integration, and counterfactual robustness. Retrieval-Augmented Generation Benchmark (RGB): A corpus for evaluating RAG in English and Chinese, divided into testbeds for various abilities required for RAG. Dialog System Technology Challenge (DSTC 9): Discusses work on the DSTC 9 track focused on task-oriented conversational modeling with unstructured knowledge access. Automated Form Filling: Proposes adapting LLMs for automated form completion tasks by creating a knowledge base, augmenting LLMs with retrieval-augmented generation, and using prompt engineering techniques. Generate-then-Read (GENREAD): Presents a method for solving knowledge-intensive tasks by generating contextual documents using LLMs before reading them for answers. Hybrid Retrieval-Augmented Generation (HybridRAG): Introduces a framework combining cloud-based LLMs with client-side models through retrieval-augmented memory for real-time task efficiency. MetaRAG: Integrates retrieval-augmented generation with metacognition to enhance model reasoning abilities through self-reflection and critical evaluation. MultiHop-RAG Dataset: Develops a dataset focusing on multi-hop queries to address inadequacies in existing RAG systems, aiming to facilitate the development of effective RAG systems for LLMs.\"],\n",
    "    [\"The CRUD framework offers a structured approach to assessing the capabilities and limitations of Retrieval-Augmented Generation (RAG) systems in different text generation scenarios. By categorizing tasks into Create, Read, Update, and Delete types, CRUD provides a comprehensive evaluation method for RAG systems. This framework allows for targeted analysis of how external knowledge sources enhance text generation in various contexts, enabling researchers and developers to optimize RAG systems more effectively.\"],\n",
    "    [\"HybridRAG is a novel approach that efficiently combines a cloud-based Large Language Model (LLM) with a smaller client-side language model through retrieval augmented memory to deliver real-time composition assistance. It allows the client model to generate effective responses by leveraging the LLM's capabilities and contextual information. The framework comprises four main components: 1. Augmentation coordinator (client): Monitors the writing context, requests augmented memory from the cloud, and integrates it into the client model 2. Memory-augmented client model (client): Utilizes the augmented memory to suggest the next words, enhancing its overall performance. 3. Retriever model (cloud): Searches the retrieval corpus to find relevant data based on the user input. 4. LLM-based memory generator (cloud): Constructs concise key takeaways from the retrieved data to optimize memory usefulness. The HybridRAG framework offers multiple benefits: 1. Enhanced utility: Enables the client model to provide better suggestions by utilizing cloud-based resources. 2. Low latency: Ensures low latency by asynchronously updating memory, allowing the client model to make predictions swiftly without waiting for responses from the cloud. 3. Reduced client-to-cloud communication: Minimizes communication between the client and cloud, saving costs by only requesting augmented memory when needed. 4. Efficient memory integration: Integrates cloud-generated memory into the client model to enhance performance and reduce data transfer volume. By leveraging cloud-generated memory, HybridRAG efficiently enhances the utility of small language models on client devices through retrieval augmentation, operating asynchronously. This innovative framework bridges the gap between latency challenges and model performance, making it a valuable solution for real-time tasks like composition assistance.\"],\n",
    "    [\"MetaRAG is introduced as a framework that combines the retrieval-augmented generation process with metacognitive abilities, inspired by human cognitive processes. The integration of Metacognition in MetaRAG allows the model to monitor, evaluate, and plan its response strategies, enhancing introspective reasoning and self-awareness in the cognitive process. This approach enables the model to identify shortcomings in the reasoning process and aims to enhance the accuracy of answer derivation. The overall MetaRAG framework includes two spaces: the cognition space and the metacognition space. The cognition space functions as a Question Answering (QA) system, while the metacognition space serves as both an evaluator and critic, introspecting the reasoning process. The metacognition space primarily encompasses three main phases: Monitoring, Evaluating, and Planning. The monitoring phase assesses the quality of the current response to determine the need for metacognitive evaluation. The evaluating phase identifies reasons why the current answer may not meet the requirements, utilizing metacognitive knowledge to analyze flaws in the response. In summary, MetaRAG is a framework that integrates metacognition into retrieval-augmented generation processes. By leveraging these metacognitive capabilities, the model can enhance its reasoning abilities, identify errors in its responses, and optimize its cognitive processes for more accurate answer generation.\"],\n",
    "    [\"RAGTruth is a hallucination corpus specifically designed for analyzing word-level hallucinations in diverse tasks within the Retrieval-Augmented Generation (RAG) context for Language Models. This corpus encompasses nearly 18,000 naturally generated responses from various models using RAG. Each response has undergone meticulous manual annotation at both individual cases and word levels, evaluating the intensity of hallucinations. RAGTruth serves as a benchmark dataset to measure the extent of hallucination within Large Language Models (LLMs) and assess existing strategies for hallucination detection. It provides a foundation for developing effective hallucination prevention methods under RAG scenarios, aiming to enhance the trustworthiness of LLM applications. With a focus on the effectiveness of hallucination detection methodologies, RAGTruth enables thorough comparisons across different LLMs and tasks. Additionally, the report emphasizes the significance of high-quality datasets like RAGTruth in fine-tuning relatively smaller LLMs to achieve competitive performance in hallucination detection, underscoring the potential for advancing detection methods using specialized datasets. With detailed annotations and diverse responses across tasks, RAGTruth facilitates a comprehensive understanding of hallucination phenomena in LLMs, contributing to the ongoing research in this critical area.\"],\n",
    "    [\"The PaperQA system revolutionizes scientific research with its cutting-edge capabilities in answering complex scientific questions. Developed by a team of researchers, PaperQA utilizes advanced tools and technologies to retrieve relevant information from online databases like Arxiv and Pubmed. By synthesizing data from research papers, PaperQA provides accurate answers comparable to human experts. Its innovative approach includes decomposing tasks, utilizing map summarization, and leveraging advanced language models to enhance retrieval and reasoning processes. PaperQA's cost-effectiveness, accuracy, and reduced error rates make it a valuable asset for scientific exploration. This breakthrough system promises to expedite research processes and reduce costs in the natural sciences, paving the way for faster innovation and discovery.\"],\n",
    "    [\"Various evaluation metrics play a crucial role in assessing the performance of Retrieval-Augmented Generation (RAG) systems across different text generation scenarios.  Methods that can be used are reference-free, evaluation for retrievers, evaluation for embedding models, RagQuestEval Metrics, evaluation based on chunk size, evaluation of LLMs as well as end-to-end evaluation metrics. Reference-Free Evaluation Methods: The utilization of metrics like TruLens-Eval, RAGAS, and ARES is discussed for evaluating RAG systems' performance concerning context relevance, answer faithfulness, and answer relevance. Evaluation of Retrievers: Experimental results incorporate metrics such as BLEU, ROUGE-L, bertScore, and RAGQuestEval to evaluate different retrievers' performance in tasks like summarization and question-answering. Evaluation of Embedding Models: Experimental results evaluate different embedding models based on metrics such as BLEU, ROUGE-L, bertScore, and RAGQuestEval for tasks like text continuation and summarization. RAGQuestEval Metric: The RAGQuestEval metric measures the recall and precision of key information in the generated text compared to the ground truth references. Evaluation based on Chunk Size: Evaluation of different chunk sizes utilizes metrics like BLEU, ROUGE-L, bertScore, and RAGQuestEval for text continuation and summarization tasks. Evaluation of Large Language Models: Experimental results showcase the evaluation of different large language models using metrics such as BLEU, ROUGE-L, bertScore, and RAGQuestEval for text continuation and summarization tasks. End-to-End Evaluation Method: An end-to-end evaluation method is adopted to assess RAG systems' ability to retrieve relevant documents and generate sensible responses, comparing the similarity between model output and reference answers. Moreover, the report introduces the Retrieval-Augmented Generation Benchmark (RGB) to evaluate Large Language Models' (LLMs) abilities in retrieval-augmented generation tasks. The benchmark requires RAG systems to exhibit Noise Robustness, Negative Rejection, Information Integration, and Counterfactual Robustness for accurate responses. Data construction involves using actual news articles to simulate real-world scenarios for evaluating LLMs by judging their retrieval-augmented responses to questions. Evaluation metrics used in the RGB include Accuracy for noise robustness and information integration, Rejection Rate for negative rejection, and Error Detection Rate for counterfactual robustness. The paper also discusses the impact of noise on LLMs' performance in RAG tasks, highlighting common errors such as long-distance information issues, evidence uncertainty, and concept confusion.\"],\n",
    "    [\"Retrievers are a crucial component in the field of natural language processing, especially in the context of information retrieval and question answering systems. They play a key role in enabling models to access external knowledge sources efficiently and effectively. Retrievers are often utilized to retrieve and present relevant documents or passages from large corpora, such as Wikipedia, to aid in answering queries or generating responses. The integration of retrievers in language models, such as in the Framework Retrieval-Augmented Language Model (REALM), allows for the retrieval of knowledge from external sources during pre-training, fine-tuning, and inference stages. This retrieval process involves selecting and attending over documents from a corpus to inform the predictions or responses generated by the model. Retrievers in systems like REALM are trained using unsupervised techniques, such as masked language modeling as the learning signal, and backpropagation through a retrieval step that considers millions of documents. The retriever is designed to reward informative retrievals that improve model predictions and penalize uninformative retrievals, thereby encouraging the model to retrieve relevant knowledge. One of the main challenges in incorporating retrievers in neural networks is the computational complexity involved, especially when considering a large corpus of documents. Strategies such as caching and asynchronous updates, as well as approaches like Maximum Inner Product Search (MIPS), are employed to address these challenges and optimize the retrieval process efficiently. Furthermore, retrievers are instrumental in tasks like open-domain question answering, where models need to access a vast amount of external knowledge to provide accurate responses. By enabling models to retrieve and incorporate relevant information from a knowledge corpus, retrievers enhance the performance and accuracy of the overall system, as demonstrated by the significant improvements achieved in benchmarks like NaturalQuestions-Open, WebQuestions, and CuratedTrec. In conclusion, retrievers are fundamental components in language models that facilitate the retrieval of external knowledge for various NLP tasks. Their effective integration and training are essential for enhancing model performance, enabling better understanding, and interpretation of textual data across a wide range of applications.\"]\n",
    "]"
   ]
  },
  {
   "cell_type": "markdown",
   "metadata": {},
   "source": [
    "### General answer by LLMs"
   ]
  },
  {
   "cell_type": "code",
   "execution_count": 12,
   "metadata": {},
   "outputs": [],
   "source": [
    "template = \"\"\"{question}\"\"\"\n",
    "prompt = ChatPromptTemplate.from_template(template)"
   ]
  },
  {
   "cell_type": "code",
   "execution_count": 13,
   "metadata": {},
   "outputs": [],
   "source": [
    "llm_chain =(\n",
    "    { \"question\": itemgetter(\"question\")}\n",
    "    | RunnablePassthrough()\n",
    "    | {\"response\": prompt | llm}\n",
    ")\n",
    "llm_chain_gpt4 =(\n",
    "    { \"question\": itemgetter(\"question\")}\n",
    "    | RunnablePassthrough()\n",
    "    | {\"response\": prompt | llm_gpt4}\n",
    ")"
   ]
  },
  {
   "cell_type": "code",
   "execution_count": 14,
   "metadata": {},
   "outputs": [],
   "source": [
    "answers_llm = []\n",
    "contexts_llm = [[\"\"],[\"\"],[\"\"],[\"\"],[\"\"],[\"\"],[\"\"],[\"\"],[\"\"],[\"\"]]"
   ]
  },
  {
   "cell_type": "code",
   "execution_count": 15,
   "metadata": {},
   "outputs": [],
   "source": [
    "for query in questions:\n",
    "    response = llm_chain.invoke({\"question\": query})\n",
    "    answers_llm.append(response[\"response\"].content)"
   ]
  },
  {
   "cell_type": "code",
   "execution_count": 16,
   "metadata": {},
   "outputs": [
    {
     "name": "stderr",
     "output_type": "stream",
     "text": [
      "passing column names as 'ground_truths' is deprecated and will be removed in the next version, please use 'ground_truth' instead. Note that `ground_truth` should be of type string and not Sequence[string] like `ground_truths`\n",
      "Evaluating:  15%|█▌        | 9/60 [00:04<00:21,  2.41it/s]Runner in Executor raised an exception\n",
      "TypeError: expected string or buffer\n",
      "Runner in Executor raised an exception\n",
      "TypeError: expected string or buffer\n",
      "Evaluating: 100%|██████████| 60/60 [00:13<00:00,  4.53it/s]\n"
     ]
    },
    {
     "name": "stdout",
     "output_type": "stream",
     "text": [
      "The average score is: 0.831677071290973\n",
      "This is the new best value!\n",
      "    System  Faithfulness  Answer Relevancy  Context Precision  Context Recall  \\\n",
      "0  GPT-3.5      0.817609          0.795673                NaN             NaN   \n",
      "\n",
      "   Answer Similarity  Answer Correctness   Average  \n",
      "0           0.984847             0.64856  0.831677  \n"
     ]
    },
    {
     "name": "stderr",
     "output_type": "stream",
     "text": [
      "C:\\Users\\sigitalapina\\AppData\\Local\\Temp\\ipykernel_5388\\800954320.py:2: FutureWarning: The behavior of DataFrame concatenation with empty or all-NA entries is deprecated. In a future version, this will no longer exclude empty or all-NA columns when determining the result dtypes. To retain the old behavior, exclude the relevant entries before the concat operation.\n",
      "  results_df = pd.concat([results_df, llm_results], ignore_index=True)\n"
     ]
    }
   ],
   "source": [
    "llm_results = evaluate_LLM(\"GPT-3.5\", questions, answers_llm, contexts_llm, ground_truths)\n",
    "results_df = pd.concat([results_df, llm_results], ignore_index=True)\n",
    "print(llm_results)"
   ]
  },
  {
   "cell_type": "code",
   "execution_count": 17,
   "metadata": {},
   "outputs": [
    {
     "name": "stderr",
     "output_type": "stream",
     "text": [
      "passing column names as 'ground_truths' is deprecated and will be removed in the next version, please use 'ground_truth' instead. Note that `ground_truth` should be of type string and not Sequence[string] like `ground_truths`\n",
      "Evaluating:  15%|█▌        | 9/60 [00:04<00:21,  2.42it/s]Runner in Executor raised an exception\n",
      "TypeError: expected string or buffer\n",
      "Runner in Executor raised an exception\n",
      "TypeError: expected string or buffer\n",
      "Evaluating: 100%|██████████| 60/60 [00:10<00:00,  5.76it/s]\n"
     ]
    },
    {
     "name": "stdout",
     "output_type": "stream",
     "text": [
      "The average score is: 0.8381448027141722\n",
      "This is the new best value!\n",
      "  System  Faithfulness  Answer Relevancy  Context Precision  Context Recall  \\\n",
      "0  GPT-4      0.837413          0.873383                NaN             NaN   \n",
      "\n",
      "   Answer Similarity  Answer Correctness   Average  \n",
      "0           0.911056            0.667323  0.838145  \n"
     ]
    }
   ],
   "source": [
    "answers_llm_gpt4 = []\n",
    "for query in questions:\n",
    "    response = llm_chain_gpt4.invoke({\"question\": query})\n",
    "    answers_llm_gpt4.append(response[\"response\"].content)\n",
    "llm_results_gpt4 = evaluate_LLM(\"GPT-4\",questions, answers_llm_gpt4, contexts_llm, ground_truths)\n",
    "results_df = pd.concat([results_df, llm_results_gpt4], ignore_index=True)\n",
    "print(llm_results_gpt4)"
   ]
  },
  {
   "cell_type": "markdown",
   "metadata": {},
   "source": [
    "# RAG"
   ]
  },
  {
   "cell_type": "markdown",
   "metadata": {},
   "source": [
    "### Naive RAG"
   ]
  },
  {
   "cell_type": "code",
   "execution_count": 18,
   "metadata": {},
   "outputs": [],
   "source": [
    "template = \"\"\"User input {question}. \n",
    "Context {context}.\"\"\"\n",
    "prompt = ChatPromptTemplate.from_template(template)"
   ]
  },
  {
   "cell_type": "code",
   "execution_count": 19,
   "metadata": {},
   "outputs": [],
   "source": [
    "def retrieval_chain(prompt, retriever, llm):\n",
    "    retrieval_augmented_qa_chain = (\n",
    "        {\"context\": itemgetter(\"question\") | retriever, \"question\": itemgetter(\"question\")}\n",
    "        | RunnablePassthrough.assign(context=itemgetter(\"context\"))\n",
    "        | {\"response\": prompt | llm, \"context\": itemgetter(\"context\")}\n",
    "    )\n",
    "    return retrieval_augmented_qa_chain"
   ]
  },
  {
   "cell_type": "code",
   "execution_count": 20,
   "metadata": {},
   "outputs": [],
   "source": [
    "loader = DirectoryLoader('../papers', glob=\"./*.pdf\", loader_cls=PyPDFLoader)\n",
    "documents = loader.load()"
   ]
  },
  {
   "cell_type": "code",
   "execution_count": 21,
   "metadata": {},
   "outputs": [],
   "source": [
    "# THE FIRST TIME RUN THIS, AFTER RUN THE NEXT CELL\n",
    "# text_splitter = CharacterTextSplitter()\n",
    "# chunks = text_splitter.split_documents(documents)\n",
    "# db_naive = Chroma.from_documents(chunks, embeddings_client, persist_directory = \"../papers/vectordb-edit/naive\")\n",
    "# db_naive.persist()\n",
    "# retriever_naive = db_naive.as_retriever()"
   ]
  },
  {
   "cell_type": "code",
   "execution_count": 22,
   "metadata": {},
   "outputs": [],
   "source": [
    "db_naive = Chroma(persist_directory = \"../papers/vectordb-edit/naive\", embedding_function=embeddings_client)\n",
    "retriever_naive = db_naive.as_retriever()"
   ]
  },
  {
   "cell_type": "code",
   "execution_count": 23,
   "metadata": {},
   "outputs": [],
   "source": [
    "answers_naive = []\n",
    "contexts_naive = []\n",
    "for query in questions:\n",
    "    try:  \n",
    "        response = retrieval_chain(prompt, retriever_naive, llm).invoke({\"question\": query})\n",
    "        # Access the response content\n",
    "        answers_naive.append(response[\"response\"].content)\n",
    "        # Access the context content\n",
    "        context_content = [context.page_content for context in response[\"context\"]]\n",
    "        contexts_naive.append(context_content)  \n",
    "    except Exception as e:  \n",
    "        print(f\"Warning: {e}\" + \"on the following question: \" + query)  \n",
    "        answers_naive.append(\"No answer\")\n",
    "        context_full = retriever_naive.get_relevant_documents(query)\n",
    "        context_content = [context.page_content for context in context_full]\n",
    "        contexts_naive.append(context_content)"
   ]
  },
  {
   "cell_type": "code",
   "execution_count": 24,
   "metadata": {},
   "outputs": [
    {
     "name": "stderr",
     "output_type": "stream",
     "text": [
      "passing column names as 'ground_truths' is deprecated and will be removed in the next version, please use 'ground_truth' instead. Note that `ground_truth` should be of type string and not Sequence[string] like `ground_truths`\n",
      "Evaluating: 100%|██████████| 60/60 [00:11<00:00,  5.06it/s]\n"
     ]
    },
    {
     "name": "stdout",
     "output_type": "stream",
     "text": [
      "The average score is: 0.8819782610333614\n",
      "This is the new best value!\n",
      "  System  Faithfulness  Answer Relevancy  Context Precision  Context Recall  \\\n",
      "0  Naive      0.987654          0.860312                1.0           0.925   \n",
      "\n",
      "   Answer Similarity  Answer Correctness   Average  \n",
      "0           0.975971            0.542932  0.881978  \n"
     ]
    }
   ],
   "source": [
    "result_naive_rag = evaluate_system(\"Naive\", questions, answers_naive, contexts_naive, ground_truths)\n",
    "results_df = pd.concat([results_df, result_naive_rag], ignore_index=True)\n",
    "print(result_naive_rag)"
   ]
  },
  {
   "cell_type": "markdown",
   "metadata": {},
   "source": [
    "### recursive splitter"
   ]
  },
  {
   "cell_type": "code",
   "execution_count": 25,
   "metadata": {},
   "outputs": [],
   "source": [
    "# THE FIRST TIME RUN THIS, AFTER RUN THE NEXT CELL\n",
    "# text_splitter = text_splitter = RecursiveCharacterTextSplitter.from_tiktoken_encoder()\n",
    "# chunks_r = text_splitter.split_documents(documents)\n",
    "# db_basic = Chroma.from_documents(chunks_r, embeddings_client, persist_directory = \"../papers/vectordb-edit/recursive_basic\")\n",
    "# db_basic.persist()\n",
    "# retriever_basic = db_basic.as_retriever()"
   ]
  },
  {
   "cell_type": "code",
   "execution_count": 26,
   "metadata": {},
   "outputs": [],
   "source": [
    "db_basic = Chroma(persist_directory = \"../papers/vectordb-edit/recursive_basic\", embedding_function=embeddings_client)\n",
    "retriever_basic = db_basic.as_retriever()"
   ]
  },
  {
   "cell_type": "code",
   "execution_count": 27,
   "metadata": {},
   "outputs": [],
   "source": [
    "answers_recursive = []\n",
    "contexts_recursive = []\n",
    "for query in questions:\n",
    "    try:  \n",
    "        response = retrieval_chain(prompt, retriever_basic, llm).invoke({\"question\": query})\n",
    "        # Access the response content\n",
    "        answers_recursive.append(response[\"response\"].content)\n",
    "        # Access the context content\n",
    "        context_content = [context.page_content for context in response[\"context\"]]\n",
    "        contexts_recursive.append(context_content)  \n",
    "    except Exception as e:  \n",
    "        print(f\"Warning: {e}\" + \"on the following question: \" + query)  \n",
    "        answers_recursive.append(\"No answer\")\n",
    "        context_full = retriever_basic.get_relevant_documents(query)\n",
    "        context_content = [context.page_content for context in context_full]\n",
    "        contexts_recursive.append(context_content)"
   ]
  },
  {
   "cell_type": "code",
   "execution_count": 28,
   "metadata": {},
   "outputs": [
    {
     "name": "stderr",
     "output_type": "stream",
     "text": [
      "passing column names as 'ground_truths' is deprecated and will be removed in the next version, please use 'ground_truth' instead. Note that `ground_truth` should be of type string and not Sequence[string] like `ground_truths`\n",
      "Evaluating: 100%|██████████| 60/60 [00:29<00:00,  2.04it/s]\n"
     ]
    },
    {
     "name": "stdout",
     "output_type": "stream",
     "text": [
      "The average score is: 0.8842059449363263\n",
      "This is the new best value!\n"
     ]
    },
    {
     "data": {
      "text/html": [
       "<div>\n",
       "<style scoped>\n",
       "    .dataframe tbody tr th:only-of-type {\n",
       "        vertical-align: middle;\n",
       "    }\n",
       "\n",
       "    .dataframe tbody tr th {\n",
       "        vertical-align: top;\n",
       "    }\n",
       "\n",
       "    .dataframe thead th {\n",
       "        text-align: right;\n",
       "    }\n",
       "</style>\n",
       "<table border=\"1\" class=\"dataframe\">\n",
       "  <thead>\n",
       "    <tr style=\"text-align: right;\">\n",
       "      <th></th>\n",
       "      <th>System</th>\n",
       "      <th>Faithfulness</th>\n",
       "      <th>Answer Relevancy</th>\n",
       "      <th>Context Precision</th>\n",
       "      <th>Context Recall</th>\n",
       "      <th>Answer Similarity</th>\n",
       "      <th>Answer Correctness</th>\n",
       "      <th>Average</th>\n",
       "    </tr>\n",
       "  </thead>\n",
       "  <tbody>\n",
       "    <tr>\n",
       "      <th>0</th>\n",
       "      <td>Recursive</td>\n",
       "      <td>0.987654</td>\n",
       "      <td>0.85812</td>\n",
       "      <td>1.0</td>\n",
       "      <td>0.95</td>\n",
       "      <td>0.975971</td>\n",
       "      <td>0.533491</td>\n",
       "      <td>0.884206</td>\n",
       "    </tr>\n",
       "  </tbody>\n",
       "</table>\n",
       "</div>"
      ],
      "text/plain": [
       "      System  Faithfulness  Answer Relevancy  Context Precision  \\\n",
       "0  Recursive      0.987654           0.85812                1.0   \n",
       "\n",
       "   Context Recall  Answer Similarity  Answer Correctness   Average  \n",
       "0            0.95           0.975971            0.533491  0.884206  "
      ]
     },
     "execution_count": 28,
     "metadata": {},
     "output_type": "execute_result"
    }
   ],
   "source": [
    "result_recursive = evaluate_system(\"Recursive\", questions, answers_naive, contexts_naive, ground_truths)\n",
    "results_df = pd.concat([results_df, result_recursive], ignore_index=True)\n",
    "result_recursive"
   ]
  },
  {
   "cell_type": "markdown",
   "metadata": {},
   "source": [
    "### chunk sizes"
   ]
  },
  {
   "cell_type": "code",
   "execution_count": 29,
   "metadata": {},
   "outputs": [],
   "source": [
    "def run_and_evaluate(name, retriever, prompt, llm, results_df):\n",
    "    answers = []\n",
    "    contexts_extra = []\n",
    "\n",
    "    for query in questions:\n",
    "        try:  \n",
    "            response = retrieval_chain(prompt, retriever, llm).invoke({\"question\": query})\n",
    "            # Access the response content\n",
    "            answers.append(response[\"response\"].content)\n",
    "            # Access the context content\n",
    "            context_content = [context.page_content for context in response[\"context\"]]\n",
    "            contexts_extra.append(context_content)  \n",
    "        except Exception as e:  \n",
    "            print(f\"Warning: {e}\" + \"on the following question: \" + query)  \n",
    "            answers.append(\"No answer\")\n",
    "            context_full = retriever.get_relevant_documents(query)\n",
    "            context_content = [context.page_content for context in context_full]\n",
    "            contexts_extra.append(context_content)\n",
    "\n",
    "    result = evaluate_system(name, questions, answers, contexts_extra, ground_truths)\n",
    "    results_df = pd.concat([results_df, result], ignore_index=True)\n",
    "    return result, results_df"
   ]
  },
  {
   "cell_type": "code",
   "execution_count": 30,
   "metadata": {},
   "outputs": [
    {
     "name": "stdout",
     "output_type": "stream",
     "text": [
      "Number of chunks for chunk size 500, overlap 0%\n"
     ]
    },
    {
     "name": "stderr",
     "output_type": "stream",
     "text": [
      "passing column names as 'ground_truths' is deprecated and will be removed in the next version, please use 'ground_truth' instead. Note that `ground_truth` should be of type string and not Sequence[string] like `ground_truths`\n",
      "Evaluating:   0%|          | 0/60 [00:00<?, ?it/s]Task exception was never retrieved\n",
      "future: <Task finished name='Task-293' coro=<AsyncClient.aclose() done, defined at c:\\Users\\sigitalapina\\OneDrive - KPMG\\Desktop\\thesis-rag\\.venv\\Lib\\site-packages\\httpx\\_client.py:2011> exception=RuntimeError('Event loop is closed')>\n",
      "RuntimeError: Event loop is closed\n",
      "Task exception was never retrieved\n",
      "future: <Task finished name='Task-294' coro=<AsyncClient.aclose() done, defined at c:\\Users\\sigitalapina\\OneDrive - KPMG\\Desktop\\thesis-rag\\.venv\\Lib\\site-packages\\httpx\\_client.py:2011> exception=RuntimeError('Event loop is closed')>\n",
      "RuntimeError: Event loop is closed\n",
      "Task exception was never retrieved\n",
      "future: <Task finished name='Task-295' coro=<AsyncClient.aclose() done, defined at c:\\Users\\sigitalapina\\OneDrive - KPMG\\Desktop\\thesis-rag\\.venv\\Lib\\site-packages\\httpx\\_client.py:2011> exception=RuntimeError('Event loop is closed')>\n",
      "RuntimeError: Event loop is closed\n",
      "Task exception was never retrieved\n",
      "future: <Task finished name='Task-296' coro=<AsyncClient.aclose() done, defined at c:\\Users\\sigitalapina\\OneDrive - KPMG\\Desktop\\thesis-rag\\.venv\\Lib\\site-packages\\httpx\\_client.py:2011> exception=RuntimeError('Event loop is closed')>\n",
      "RuntimeError: Event loop is closed\n",
      "Evaluating: 100%|██████████| 60/60 [00:33<00:00,  1.80it/s]\n"
     ]
    },
    {
     "name": "stdout",
     "output_type": "stream",
     "text": [
      "The average score is: 0.8892122732658302\n",
      "This is the new best value!\n",
      "CHUNK SIZE 500, 0% overlap:\n",
      "                  System  Faithfulness  Answer Relevancy  Context Precision  \\\n",
      "0  Chunk 500, overlap 0%          0.93          0.877987           0.983333   \n",
      "\n",
      "   Context Recall  Answer Similarity  Answer Correctness   Average  \n",
      "0             1.0           0.978099            0.565855  0.889212  \n",
      "Number of chunks for chunk size 500, overlap 5%\n"
     ]
    },
    {
     "name": "stderr",
     "output_type": "stream",
     "text": [
      "passing column names as 'ground_truths' is deprecated and will be removed in the next version, please use 'ground_truth' instead. Note that `ground_truth` should be of type string and not Sequence[string] like `ground_truths`\n",
      "Evaluating:  72%|███████▏  | 43/60 [00:24<00:06,  2.82it/s]Invalid JSON response. Expected dictionary with key 'question'\n",
      "Evaluating: 100%|██████████| 60/60 [00:27<00:00,  2.21it/s]\n"
     ]
    },
    {
     "name": "stdout",
     "output_type": "stream",
     "text": [
      "The average score is: 0.8860495705054383\n",
      "CHUNK SIZE 500, 5% overlap:\n",
      "                  System  Faithfulness  Answer Relevancy  Context Precision  \\\n",
      "0  Chunk 500, overlap 5%      0.936667          0.882256                1.0   \n",
      "\n",
      "   Context Recall  Answer Similarity  Answer Correctness  Average  \n",
      "0        0.966667           0.981681            0.549027  0.88605  \n",
      "Number of chunks for chunk size 500, overlap 10%\n"
     ]
    },
    {
     "name": "stderr",
     "output_type": "stream",
     "text": [
      "passing column names as 'ground_truths' is deprecated and will be removed in the next version, please use 'ground_truth' instead. Note that `ground_truth` should be of type string and not Sequence[string] like `ground_truths`\n",
      "Evaluating:  35%|███▌      | 21/60 [00:05<00:07,  5.06it/s]Invalid JSON response. Expected dictionary with key 'question'\n",
      "Evaluating: 100%|██████████| 60/60 [00:10<00:00,  5.46it/s]\n"
     ]
    },
    {
     "name": "stdout",
     "output_type": "stream",
     "text": [
      "The average score is: 0.8944027827553986\n",
      "This is the new best value!\n",
      "CHUNK SIZE 500, 10% overlap:\n",
      "                   System  Faithfulness  Answer Relevancy  Context Precision  \\\n",
      "0  Chunk 500, overlap 10%      0.940476          0.874959           0.991667   \n",
      "\n",
      "   Context Recall  Answer Similarity  Answer Correctness   Average  \n",
      "0             1.0           0.977794            0.581521  0.894403  \n",
      "Number of chunks for chunk size 500, overlap 15%\n"
     ]
    },
    {
     "name": "stderr",
     "output_type": "stream",
     "text": [
      "passing column names as 'ground_truths' is deprecated and will be removed in the next version, please use 'ground_truth' instead. Note that `ground_truth` should be of type string and not Sequence[string] like `ground_truths`\n",
      "Evaluating: 100%|██████████| 60/60 [00:23<00:00,  2.57it/s]\n"
     ]
    },
    {
     "name": "stdout",
     "output_type": "stream",
     "text": [
      "The average score is: 0.9052456285921725\n",
      "This is the new best value!\n",
      "CHUNK SIZE 500, 15% overlap:\n",
      "                   System  Faithfulness  Answer Relevancy  Context Precision  \\\n",
      "0  Chunk 500, overlap 15%      0.987654          0.872242           0.983333   \n",
      "\n",
      "   Context Recall  Answer Similarity  Answer Correctness   Average  \n",
      "0             1.0           0.977634             0.61061  0.905246  \n",
      "Number of chunks for chunk size 500, overlap 20%\n"
     ]
    },
    {
     "name": "stderr",
     "output_type": "stream",
     "text": [
      "passing column names as 'ground_truths' is deprecated and will be removed in the next version, please use 'ground_truth' instead. Note that `ground_truth` should be of type string and not Sequence[string] like `ground_truths`\n",
      "Evaluating: 100%|██████████| 60/60 [00:10<00:00,  5.82it/s]\n"
     ]
    },
    {
     "name": "stdout",
     "output_type": "stream",
     "text": [
      "The average score is: 0.8943316657436174\n",
      "CHUNK SIZE 500, 20% overlap:\n",
      "                   System  Faithfulness  Answer Relevancy  Context Precision  \\\n",
      "0  Chunk 500, overlap 20%      0.935556          0.892518           0.991667   \n",
      "\n",
      "   Context Recall  Answer Similarity  Answer Correctness   Average  \n",
      "0            0.95           0.981038            0.615212  0.894332  \n",
      "Number of chunks for chunk size 1000, overlap 0%\n"
     ]
    },
    {
     "name": "stderr",
     "output_type": "stream",
     "text": [
      "passing column names as 'ground_truths' is deprecated and will be removed in the next version, please use 'ground_truth' instead. Note that `ground_truth` should be of type string and not Sequence[string] like `ground_truths`\n",
      "Evaluating:   5%|▌         | 3/60 [00:20<05:11,  5.46s/it]Runner in Executor raised an exception\n",
      "TypeError: expected string or buffer\n",
      "Evaluating: 100%|██████████| 60/60 [00:25<00:00,  2.39it/s]\n"
     ]
    },
    {
     "name": "stdout",
     "output_type": "stream",
     "text": [
      "The average score is: 0.8745918099849369\n",
      "CHUNK SIZE 1000, 0% overlap:\n",
      "                   System  Faithfulness  Answer Relevancy  Context Precision  \\\n",
      "0  Chunk 1000, overlap 0%      0.641996          0.931064           0.866918   \n",
      "\n",
      "   Context Recall  Answer Similarity  Answer Correctness   Average  \n",
      "0        0.991667           0.939922            0.875984  0.874592  \n",
      "Number of chunks for chunk size 1000, overlap 5%\n"
     ]
    },
    {
     "name": "stderr",
     "output_type": "stream",
     "text": [
      "passing column names as 'ground_truths' is deprecated and will be removed in the next version, please use 'ground_truth' instead. Note that `ground_truth` should be of type string and not Sequence[string] like `ground_truths`\n",
      "Evaluating: 100%|██████████| 60/60 [00:11<00:00,  5.24it/s]\n"
     ]
    },
    {
     "name": "stdout",
     "output_type": "stream",
     "text": [
      "The average score is: 0.8882376323289991\n",
      "CHUNK SIZE 1000, 5% overlap:\n",
      "                   System  Faithfulness  Answer Relevancy  Context Precision  \\\n",
      "0  Chunk 1000, overlap 5%      0.958333          0.853123           0.963889   \n",
      "\n",
      "   Context Recall  Answer Similarity  Answer Correctness   Average  \n",
      "0            0.95           0.979277            0.624804  0.888238  \n",
      "Number of chunks for chunk size 1000, overlap 10%\n"
     ]
    },
    {
     "name": "stderr",
     "output_type": "stream",
     "text": [
      "passing column names as 'ground_truths' is deprecated and will be removed in the next version, please use 'ground_truth' instead. Note that `ground_truth` should be of type string and not Sequence[string] like `ground_truths`\n",
      "Evaluating:   0%|          | 0/60 [00:00<?, ?it/s]Task exception was never retrieved\n",
      "future: <Task finished name='Task-791' coro=<AsyncClient.aclose() done, defined at c:\\Users\\sigitalapina\\OneDrive - KPMG\\Desktop\\thesis-rag\\.venv\\Lib\\site-packages\\httpx\\_client.py:2011> exception=RuntimeError('Event loop is closed')>\n",
      "RuntimeError: Event loop is closed\n",
      "Task exception was never retrieved\n",
      "future: <Task finished name='Task-792' coro=<AsyncClient.aclose() done, defined at c:\\Users\\sigitalapina\\OneDrive - KPMG\\Desktop\\thesis-rag\\.venv\\Lib\\site-packages\\httpx\\_client.py:2011> exception=RuntimeError('Event loop is closed')>\n",
      "RuntimeError: Event loop is closed\n",
      "Task exception was never retrieved\n",
      "future: <Task finished name='Task-793' coro=<AsyncClient.aclose() done, defined at c:\\Users\\sigitalapina\\OneDrive - KPMG\\Desktop\\thesis-rag\\.venv\\Lib\\site-packages\\httpx\\_client.py:2011> exception=RuntimeError('Event loop is closed')>\n",
      "RuntimeError: Event loop is closed\n",
      "Task exception was never retrieved\n",
      "future: <Task finished name='Task-794' coro=<AsyncClient.aclose() done, defined at c:\\Users\\sigitalapina\\OneDrive - KPMG\\Desktop\\thesis-rag\\.venv\\Lib\\site-packages\\httpx\\_client.py:2011> exception=RuntimeError('Event loop is closed')>\n",
      "RuntimeError: Event loop is closed\n",
      "Task exception was never retrieved\n",
      "future: <Task finished name='Task-795' coro=<AsyncClient.aclose() done, defined at c:\\Users\\sigitalapina\\OneDrive - KPMG\\Desktop\\thesis-rag\\.venv\\Lib\\site-packages\\httpx\\_client.py:2011> exception=RuntimeError('Event loop is closed')>\n",
      "RuntimeError: Event loop is closed\n",
      "Task exception was never retrieved\n",
      "future: <Task finished name='Task-796' coro=<AsyncClient.aclose() done, defined at c:\\Users\\sigitalapina\\OneDrive - KPMG\\Desktop\\thesis-rag\\.venv\\Lib\\site-packages\\httpx\\_client.py:2011> exception=RuntimeError('Event loop is closed')>\n",
      "RuntimeError: Event loop is closed\n",
      "Task exception was never retrieved\n",
      "future: <Task finished name='Task-797' coro=<AsyncClient.aclose() done, defined at c:\\Users\\sigitalapina\\OneDrive - KPMG\\Desktop\\thesis-rag\\.venv\\Lib\\site-packages\\httpx\\_client.py:2011> exception=RuntimeError('Event loop is closed')>\n",
      "RuntimeError: Event loop is closed\n",
      "Task exception was never retrieved\n",
      "future: <Task finished name='Task-798' coro=<AsyncClient.aclose() done, defined at c:\\Users\\sigitalapina\\OneDrive - KPMG\\Desktop\\thesis-rag\\.venv\\Lib\\site-packages\\httpx\\_client.py:2011> exception=RuntimeError('Event loop is closed')>\n",
      "RuntimeError: Event loop is closed\n",
      "Evaluating: 100%|██████████| 60/60 [00:10<00:00,  5.64it/s]\n"
     ]
    },
    {
     "name": "stdout",
     "output_type": "stream",
     "text": [
      "The average score is: 0.8771976530841455\n",
      "CHUNK SIZE 1000, 10% overlap:\n",
      "                    System  Faithfulness  Answer Relevancy  Context Precision  \\\n",
      "0  Chunk 1000, overlap 10%      0.958333          0.860493           0.963889   \n",
      "\n",
      "   Context Recall  Answer Similarity  Answer Correctness   Average  \n",
      "0            0.94           0.977073            0.563398  0.877198  \n",
      "Number of chunks for chunk size 1000, overlap 15%\n"
     ]
    },
    {
     "name": "stderr",
     "output_type": "stream",
     "text": [
      "passing column names as 'ground_truths' is deprecated and will be removed in the next version, please use 'ground_truth' instead. Note that `ground_truth` should be of type string and not Sequence[string] like `ground_truths`\n",
      "Evaluating:  58%|█████▊    | 35/60 [00:06<00:02, 10.59it/s]Invalid JSON response. Expected dictionary with key 'question'\n",
      "Evaluating: 100%|██████████| 60/60 [00:11<00:00,  5.27it/s]\n"
     ]
    },
    {
     "name": "stdout",
     "output_type": "stream",
     "text": [
      "The average score is: 0.887118216759152\n",
      "CHUNK SIZE 1000, 15% overlap:\n",
      "                    System  Faithfulness  Answer Relevancy  Context Precision  \\\n",
      "0  Chunk 1000, overlap 15%      0.986111          0.877419           0.958333   \n",
      "\n",
      "   Context Recall  Answer Similarity  Answer Correctness   Average  \n",
      "0            0.95           0.979829            0.571016  0.887118  \n",
      "Number of chunks for chunk size 1000, overlap 20%\n"
     ]
    },
    {
     "name": "stderr",
     "output_type": "stream",
     "text": [
      "passing column names as 'ground_truths' is deprecated and will be removed in the next version, please use 'ground_truth' instead. Note that `ground_truth` should be of type string and not Sequence[string] like `ground_truths`\n",
      "Evaluating:  55%|█████▌    | 33/60 [00:05<00:02, 12.88it/s]Invalid JSON response. Expected dictionary with key 'question'\n",
      "Evaluating: 100%|██████████| 60/60 [00:11<00:00,  5.07it/s]\n"
     ]
    },
    {
     "name": "stdout",
     "output_type": "stream",
     "text": [
      "The average score is: 0.8950165823976933\n",
      "CHUNK SIZE 1000, 20% overlap:\n",
      "                    System  Faithfulness  Answer Relevancy  Context Precision  \\\n",
      "0  Chunk 1000, overlap 20%      0.986111           0.87507           0.980556   \n",
      "\n",
      "   Context Recall  Answer Similarity  Answer Correctness   Average  \n",
      "0            0.95           0.974512            0.603851  0.895017  \n",
      "Number of chunks for chunk size 2000, overlap 0%\n"
     ]
    },
    {
     "name": "stderr",
     "output_type": "stream",
     "text": [
      "passing column names as 'ground_truths' is deprecated and will be removed in the next version, please use 'ground_truth' instead. Note that `ground_truth` should be of type string and not Sequence[string] like `ground_truths`\n",
      "Evaluating: 100%|██████████| 60/60 [00:12<00:00,  4.70it/s]\n"
     ]
    },
    {
     "name": "stdout",
     "output_type": "stream",
     "text": [
      "The average score is: 0.8828626514352348\n",
      "CHUNK SIZE 2000, 0% overlap:\n",
      "                   System  Faithfulness  Answer Relevancy  Context Precision  \\\n",
      "0  Chunk 2000, overlap 0%           1.0          0.850555           0.991667   \n",
      "\n",
      "   Context Recall  Answer Similarity  Answer Correctness   Average  \n",
      "0            0.95           0.976766            0.528189  0.882863  \n",
      "Number of chunks for chunk size 2000, overlap 5%\n"
     ]
    },
    {
     "name": "stderr",
     "output_type": "stream",
     "text": [
      "passing column names as 'ground_truths' is deprecated and will be removed in the next version, please use 'ground_truth' instead. Note that `ground_truth` should be of type string and not Sequence[string] like `ground_truths`\n",
      "Evaluating: 100%|██████████| 60/60 [00:11<00:00,  5.19it/s]\n"
     ]
    },
    {
     "name": "stdout",
     "output_type": "stream",
     "text": [
      "The average score is: 0.8787675541637646\n",
      "CHUNK SIZE 2000, 5% overlap:\n",
      "                   System  Faithfulness  Answer Relevancy  Context Precision  \\\n",
      "0  Chunk 2000, overlap 5%           1.0          0.845182              0.975   \n",
      "\n",
      "   Context Recall  Answer Similarity  Answer Correctness   Average  \n",
      "0            0.95           0.977052            0.525371  0.878768  \n",
      "Number of chunks for chunk size 2000, overlap 10%\n"
     ]
    },
    {
     "name": "stderr",
     "output_type": "stream",
     "text": [
      "passing column names as 'ground_truths' is deprecated and will be removed in the next version, please use 'ground_truth' instead. Note that `ground_truth` should be of type string and not Sequence[string] like `ground_truths`\n",
      "Evaluating: 100%|██████████| 60/60 [00:11<00:00,  5.26it/s]\n"
     ]
    },
    {
     "name": "stdout",
     "output_type": "stream",
     "text": [
      "The average score is: 0.8837120999176618\n",
      "CHUNK SIZE 2000, 10% overlap:\n",
      "                    System  Faithfulness  Answer Relevancy  Context Precision  \\\n",
      "0  Chunk 2000, overlap 10%           1.0          0.858404           0.991667   \n",
      "\n",
      "   Context Recall  Answer Similarity  Answer Correctness   Average  \n",
      "0        0.934615           0.976766            0.540821  0.883712  \n",
      "Number of chunks for chunk size 2000, overlap 15%\n"
     ]
    },
    {
     "name": "stderr",
     "output_type": "stream",
     "text": [
      "passing column names as 'ground_truths' is deprecated and will be removed in the next version, please use 'ground_truth' instead. Note that `ground_truth` should be of type string and not Sequence[string] like `ground_truths`\n",
      "Evaluating:  25%|██▌       | 15/60 [00:05<00:15,  2.85it/s]Runner in Executor raised an exception\n",
      "TypeError: expected string or buffer\n",
      "Evaluating: 100%|██████████| 60/60 [00:11<00:00,  5.10it/s]\n"
     ]
    },
    {
     "name": "stdout",
     "output_type": "stream",
     "text": [
      "The average score is: 0.8840512001254276\n",
      "CHUNK SIZE 2000, 15% overlap:\n",
      "                    System  Faithfulness  Answer Relevancy  Context Precision  \\\n",
      "0  Chunk 2000, overlap 15%      0.692778          0.959611            0.90471   \n",
      "\n",
      "   Context Recall  Answer Similarity  Answer Correctness   Average  \n",
      "0        0.941667            0.98897            0.816572  0.884051  \n",
      "Number of chunks for chunk size 2000, overlap 20%\n"
     ]
    },
    {
     "name": "stderr",
     "output_type": "stream",
     "text": [
      "passing column names as 'ground_truths' is deprecated and will be removed in the next version, please use 'ground_truth' instead. Note that `ground_truth` should be of type string and not Sequence[string] like `ground_truths`\n",
      "Evaluating: 100%|██████████| 60/60 [00:11<00:00,  5.15it/s]\n"
     ]
    },
    {
     "name": "stdout",
     "output_type": "stream",
     "text": [
      "The average score is: 0.8772813508215093\n",
      "CHUNK SIZE 2000, 20% overlap:\n",
      "                    System  Faithfulness  Answer Relevancy  Context Precision  \\\n",
      "0  Chunk 2000, overlap 20%           1.0          0.853904              0.975   \n",
      "\n",
      "   Context Recall  Answer Similarity  Answer Correctness   Average  \n",
      "0            0.94           0.973043            0.521741  0.877281  \n",
      "Number of chunks for chunk size 3000, overlap 0%\n"
     ]
    },
    {
     "name": "stderr",
     "output_type": "stream",
     "text": [
      "passing column names as 'ground_truths' is deprecated and will be removed in the next version, please use 'ground_truth' instead. Note that `ground_truth` should be of type string and not Sequence[string] like `ground_truths`\n",
      "Evaluating: 100%|██████████| 60/60 [00:11<00:00,  5.18it/s]\n"
     ]
    },
    {
     "name": "stdout",
     "output_type": "stream",
     "text": [
      "The average score is: 0.8868761870718574\n",
      "CHUNK SIZE 3000, 0% overlap:\n",
      "                   System  Faithfulness  Answer Relevancy  Context Precision  \\\n",
      "0  Chunk 3000, overlap 0%           1.0          0.852014           0.991667   \n",
      "\n",
      "   Context Recall  Answer Similarity  Answer Correctness   Average  \n",
      "0            0.95           0.976766            0.550811  0.886876  \n",
      "Number of chunks for chunk size 3000, overlap 5%\n"
     ]
    },
    {
     "name": "stderr",
     "output_type": "stream",
     "text": [
      "passing column names as 'ground_truths' is deprecated and will be removed in the next version, please use 'ground_truth' instead. Note that `ground_truth` should be of type string and not Sequence[string] like `ground_truths`\n",
      "Evaluating: 100%|██████████| 60/60 [00:11<00:00,  5.16it/s]\n"
     ]
    },
    {
     "name": "stdout",
     "output_type": "stream",
     "text": [
      "The average score is: 0.8926479003878134\n",
      "CHUNK SIZE 3000, 5% overlap:\n",
      "                   System  Faithfulness  Answer Relevancy  Context Precision  \\\n",
      "0  Chunk 3000, overlap 5%           1.0          0.853427           0.991667   \n",
      "\n",
      "   Context Recall  Answer Similarity  Answer Correctness   Average  \n",
      "0        0.934615            0.97757            0.598608  0.892648  \n",
      "Number of chunks for chunk size 3000, overlap 10%\n"
     ]
    },
    {
     "name": "stderr",
     "output_type": "stream",
     "text": [
      "passing column names as 'ground_truths' is deprecated and will be removed in the next version, please use 'ground_truth' instead. Note that `ground_truth` should be of type string and not Sequence[string] like `ground_truths`\n",
      "Evaluating: 100%|██████████| 60/60 [00:10<00:00,  5.52it/s]\n"
     ]
    },
    {
     "name": "stdout",
     "output_type": "stream",
     "text": [
      "The average score is: 0.8809038231015536\n",
      "CHUNK SIZE 3000, 10% overlap:\n",
      "                    System  Faithfulness  Answer Relevancy  Context Precision  \\\n",
      "0  Chunk 3000, overlap 10%           1.0          0.851984                1.0   \n",
      "\n",
      "   Context Recall  Answer Similarity  Answer Correctness   Average  \n",
      "0           0.925           0.973843            0.534596  0.880904  \n",
      "Number of chunks for chunk size 3000, overlap 15%\n"
     ]
    },
    {
     "name": "stderr",
     "output_type": "stream",
     "text": [
      "passing column names as 'ground_truths' is deprecated and will be removed in the next version, please use 'ground_truth' instead. Note that `ground_truth` should be of type string and not Sequence[string] like `ground_truths`\n",
      "Evaluating:   0%|          | 0/60 [00:00<?, ?it/s]Task exception was never retrieved\n",
      "future: <Task finished name='Task-1488' coro=<AsyncClient.aclose() done, defined at c:\\Users\\sigitalapina\\OneDrive - KPMG\\Desktop\\thesis-rag\\.venv\\Lib\\site-packages\\httpx\\_client.py:2011> exception=RuntimeError('Event loop is closed')>\n",
      "RuntimeError: Event loop is closed\n",
      "Task exception was never retrieved\n",
      "future: <Task finished name='Task-1489' coro=<AsyncClient.aclose() done, defined at c:\\Users\\sigitalapina\\OneDrive - KPMG\\Desktop\\thesis-rag\\.venv\\Lib\\site-packages\\httpx\\_client.py:2011> exception=RuntimeError('Event loop is closed')>\n",
      "RuntimeError: Event loop is closed\n",
      "Task exception was never retrieved\n",
      "future: <Task finished name='Task-1490' coro=<AsyncClient.aclose() done, defined at c:\\Users\\sigitalapina\\OneDrive - KPMG\\Desktop\\thesis-rag\\.venv\\Lib\\site-packages\\httpx\\_client.py:2011> exception=RuntimeError('Event loop is closed')>\n",
      "RuntimeError: Event loop is closed\n",
      "Task exception was never retrieved\n",
      "future: <Task finished name='Task-1491' coro=<AsyncClient.aclose() done, defined at c:\\Users\\sigitalapina\\OneDrive - KPMG\\Desktop\\thesis-rag\\.venv\\Lib\\site-packages\\httpx\\_client.py:2011> exception=RuntimeError('Event loop is closed')>\n",
      "RuntimeError: Event loop is closed\n",
      "Task exception was never retrieved\n",
      "future: <Task finished name='Task-1492' coro=<AsyncClient.aclose() done, defined at c:\\Users\\sigitalapina\\OneDrive - KPMG\\Desktop\\thesis-rag\\.venv\\Lib\\site-packages\\httpx\\_client.py:2011> exception=RuntimeError('Event loop is closed')>\n",
      "RuntimeError: Event loop is closed\n",
      "Task exception was never retrieved\n",
      "future: <Task finished name='Task-1493' coro=<AsyncClient.aclose() done, defined at c:\\Users\\sigitalapina\\OneDrive - KPMG\\Desktop\\thesis-rag\\.venv\\Lib\\site-packages\\httpx\\_client.py:2011> exception=RuntimeError('Event loop is closed')>\n",
      "RuntimeError: Event loop is closed\n",
      "Task exception was never retrieved\n",
      "future: <Task finished name='Task-1494' coro=<AsyncClient.aclose() done, defined at c:\\Users\\sigitalapina\\OneDrive - KPMG\\Desktop\\thesis-rag\\.venv\\Lib\\site-packages\\httpx\\_client.py:2011> exception=RuntimeError('Event loop is closed')>\n",
      "RuntimeError: Event loop is closed\n",
      "Task exception was never retrieved\n",
      "future: <Task finished name='Task-1495' coro=<AsyncClient.aclose() done, defined at c:\\Users\\sigitalapina\\OneDrive - KPMG\\Desktop\\thesis-rag\\.venv\\Lib\\site-packages\\httpx\\_client.py:2011> exception=RuntimeError('Event loop is closed')>\n",
      "RuntimeError: Event loop is closed\n",
      "Evaluating: 100%|██████████| 60/60 [00:12<00:00,  4.95it/s]\n"
     ]
    },
    {
     "name": "stdout",
     "output_type": "stream",
     "text": [
      "The average score is: 0.8785177117409474\n",
      "CHUNK SIZE 3000, 15% overlap:\n",
      "                    System  Faithfulness  Answer Relevancy  Context Precision  \\\n",
      "0  Chunk 3000, overlap 15%      0.987654          0.850571           0.972222   \n",
      "\n",
      "   Context Recall  Answer Similarity  Answer Correctness   Average  \n",
      "0            0.95            0.97589            0.534769  0.878518  \n",
      "Number of chunks for chunk size 3000, overlap 20%\n"
     ]
    },
    {
     "name": "stderr",
     "output_type": "stream",
     "text": [
      "passing column names as 'ground_truths' is deprecated and will be removed in the next version, please use 'ground_truth' instead. Note that `ground_truth` should be of type string and not Sequence[string] like `ground_truths`\n",
      "Evaluating: 100%|██████████| 60/60 [00:10<00:00,  5.63it/s]\n"
     ]
    },
    {
     "name": "stdout",
     "output_type": "stream",
     "text": [
      "The average score is: 0.8850949783891008\n",
      "CHUNK SIZE 3000, 20% overlap:\n",
      "                    System  Faithfulness  Answer Relevancy  Context Precision  \\\n",
      "0  Chunk 3000, overlap 20%           1.0          0.852384           0.991667   \n",
      "\n",
      "   Context Recall  Answer Similarity  Answer Correctness   Average  \n",
      "0            0.95           0.975239            0.541281  0.885095  \n"
     ]
    }
   ],
   "source": [
    "chunk_sizes = [500, 1000, 2000, 3000]\n",
    "overlap_percentages = [0, 5, 10, 15, 20]\n",
    "\n",
    "for chunk_size in chunk_sizes:\n",
    "    for overlap_percentage in overlap_percentages:\n",
    "        # Calculate overlap based on percentage\n",
    "        chunk_overlap = int(chunk_size * overlap_percentage / 100)\n",
    "        \n",
    "        # Create text splitter\n",
    "        # text_splitter = RecursiveCharacterTextSplitter.from_tiktoken_encoder(chunk_size=chunk_size, chunk_overlap=chunk_overlap)\n",
    "        \n",
    "        # # Split documents\n",
    "        # chunks = text_splitter.split_documents(documents)\n",
    "        \n",
    "        # Print number of chunks\n",
    "        print(f\"Number of chunks for chunk size {chunk_size}, overlap {overlap_percentage}%\")\n",
    "        \n",
    "        # Create Chroma database\n",
    "        # db = Chroma.from_documents(chunks, embeddings_client, persist_directory=f\"../papers/vectordb-edit/chunking_{chunk_size}_{overlap_percentage}\")\n",
    "        db = Chroma(persist_directory = f\"../papers/vectordb-edit/chunking_{chunk_size}_{overlap_percentage}\", embedding_function=embeddings_client)\n",
    "        db.persist()\n",
    "        \n",
    "        # Create retriever\n",
    "        retriever = db.as_retriever()\n",
    "        \n",
    "        # Run and evaluate\n",
    "        result,results_df = run_and_evaluate(f\"Chunk {chunk_size}, overlap {overlap_percentage}%\", retriever, prompt, llm, results_df)\n",
    "        print(f\"CHUNK SIZE {chunk_size}, {overlap_percentage}% overlap:\")\n",
    "        print(result)"
   ]
  },
  {
   "cell_type": "markdown",
   "metadata": {},
   "source": [
    "chunk = 1000"
   ]
  },
  {
   "cell_type": "code",
   "execution_count": 31,
   "metadata": {},
   "outputs": [],
   "source": [
    "# # THE FIRST TIME RUN THIS, AFTER RUN THE NEXT CELL\n",
    "# text_splitter = RecursiveCharacterTextSplitter.from_tiktoken_encoder(chunk_size = 1000, chunk_overlap = 100)\n",
    "# chunks_1000 = text_splitter.split_documents(documents)\n",
    "# print(len(chunks_1000))\n",
    "# db_1000 = Chroma.from_documents(chunks_1000, embeddings_client, persist_directory = \"../papers/vectordb-edit/recursive_1000\")\n",
    "# db_1000.persist()"
   ]
  },
  {
   "cell_type": "code",
   "execution_count": 32,
   "metadata": {},
   "outputs": [],
   "source": [
    "# db_1000 = Chroma(persist_directory = \"../papers/vectordb-edit/recursive_1000\", embedding_function=embeddings_client)"
   ]
  },
  {
   "cell_type": "code",
   "execution_count": 33,
   "metadata": {},
   "outputs": [],
   "source": [
    "# retriever_1000 = db_1000.as_retriever()\n",
    "# result_1000 = run_and_evaluate(retriever_1000, prompt, llm)\n",
    "# print(\"CHUNK SIZE 1000\")\n",
    "# print(result_1000)"
   ]
  },
  {
   "cell_type": "code",
   "execution_count": 34,
   "metadata": {},
   "outputs": [],
   "source": [
    "# dict_result_1000 = dictionary(result_1000)"
   ]
  },
  {
   "cell_type": "markdown",
   "metadata": {},
   "source": [
    "chunk = 500"
   ]
  },
  {
   "cell_type": "code",
   "execution_count": 35,
   "metadata": {},
   "outputs": [],
   "source": [
    "# # THE FIRST TIME RUN THIS, AFTER RUN THE NEXT CELL\n",
    "# text_splitter = RecursiveCharacterTextSplitter.from_tiktoken_encoder(chunk_size = 500, chunk_overlap = 50)\n",
    "# chunks_500 = text_splitter.split_documents(documents)\n",
    "# print(len(chunks_500))\n",
    "# db_500 = Chroma.from_documents(chunks_500, embeddings_client, persist_directory = \"../papers/vectordb-edit/recursive_500\")\n",
    "# db_500.persist()"
   ]
  },
  {
   "cell_type": "code",
   "execution_count": 36,
   "metadata": {},
   "outputs": [],
   "source": [
    "# db_500 = Chroma(persist_directory = \"../papers/vectordb-edit/recursive_500\", embedding_function=embeddings_client)"
   ]
  },
  {
   "cell_type": "code",
   "execution_count": 37,
   "metadata": {},
   "outputs": [],
   "source": [
    "# retriever_500 = db_500.as_retriever()\n",
    "# result_500 = run_and_evaluate(retriever_500, prompt, llm)\n",
    "# print(\"CHUNK SIZE 500\")\n",
    "# print(result_500)"
   ]
  },
  {
   "cell_type": "code",
   "execution_count": 38,
   "metadata": {},
   "outputs": [],
   "source": [
    "# dict_result_500 = dictionary(result_500)"
   ]
  },
  {
   "cell_type": "markdown",
   "metadata": {},
   "source": [
    "chunk = 2000"
   ]
  },
  {
   "cell_type": "code",
   "execution_count": 39,
   "metadata": {},
   "outputs": [],
   "source": [
    "# text_splitter = RecursiveCharacterTextSplitter.from_tiktoken_encoder(chunk_size = 2000, chunk_overlap = 200)\n",
    "# chunks_2000 = text_splitter.split_documents(documents)\n",
    "# print(len(chunks_2000))\n",
    "# db_2000 = Chroma.from_documents(chunks_2000, embeddings_client, persist_directory = \"../papers/vectordb-edit/recursive_2000\")\n"
   ]
  },
  {
   "cell_type": "code",
   "execution_count": 40,
   "metadata": {},
   "outputs": [],
   "source": [
    "# db_2000 = Chroma(persist_directory = \"../papers/vectordb-edit/recursive_2000\", embedding_function=embeddings_client)"
   ]
  },
  {
   "cell_type": "code",
   "execution_count": 41,
   "metadata": {},
   "outputs": [],
   "source": [
    "# retriever_2000 = db_2000.as_retriever()\n",
    "# result_2000 = run_and_evaluate(retriever_2000, prompt, llm)\n",
    "# print(\"CHUNK SIZE 2000\")\n",
    "# print(result_2000)"
   ]
  },
  {
   "cell_type": "code",
   "execution_count": 42,
   "metadata": {},
   "outputs": [],
   "source": [
    "# dict_result_2000 = dictionary(result_2000)"
   ]
  },
  {
   "cell_type": "markdown",
   "metadata": {},
   "source": [
    "chunk = 3000"
   ]
  },
  {
   "cell_type": "code",
   "execution_count": 43,
   "metadata": {},
   "outputs": [],
   "source": [
    "# text_splitter = RecursiveCharacterTextSplitter.from_tiktoken_encoder(chunk_size = 3000, chunk_overlap = 300)\n",
    "# chunks_3000 = text_splitter.split_documents(documents)\n",
    "# print(len(chunks_3000))\n",
    "# db_3000 = Chroma.from_documents(chunks_3000, embeddings_client, persist_directory = \"../papers/vectordb-edit/recursive_3000\")"
   ]
  },
  {
   "cell_type": "code",
   "execution_count": 44,
   "metadata": {},
   "outputs": [],
   "source": [
    "# db_3000 = Chroma(persist_directory = \"../papers/vectordb-edit/recursive_3000\", embedding_function=embeddings_client)"
   ]
  },
  {
   "cell_type": "code",
   "execution_count": 45,
   "metadata": {},
   "outputs": [],
   "source": [
    "# retriever_3000 = db_3000.as_retriever()\n",
    "# result_3000 = run_and_evaluate(retriever_3000, prompt, llm)\n",
    "# print(\"CHUNK SIZE 3000\")\n",
    "# print(result_3000)"
   ]
  },
  {
   "cell_type": "code",
   "execution_count": 46,
   "metadata": {},
   "outputs": [],
   "source": [
    "# dict_result_3000 = dictionary(result_3000)"
   ]
  },
  {
   "cell_type": "code",
   "execution_count": 49,
   "metadata": {},
   "outputs": [
    {
     "data": {
      "text/html": [
       "<div>\n",
       "<style scoped>\n",
       "    .dataframe tbody tr th:only-of-type {\n",
       "        vertical-align: middle;\n",
       "    }\n",
       "\n",
       "    .dataframe tbody tr th {\n",
       "        vertical-align: top;\n",
       "    }\n",
       "\n",
       "    .dataframe thead th {\n",
       "        text-align: right;\n",
       "    }\n",
       "</style>\n",
       "<table border=\"1\" class=\"dataframe\">\n",
       "  <thead>\n",
       "    <tr style=\"text-align: right;\">\n",
       "      <th></th>\n",
       "      <th>System</th>\n",
       "      <th>Faithfulness</th>\n",
       "      <th>Answer Relevancy</th>\n",
       "      <th>Context Precision</th>\n",
       "      <th>Context Recall</th>\n",
       "      <th>Answer Similarity</th>\n",
       "      <th>Answer Correctness</th>\n",
       "      <th>Average</th>\n",
       "    </tr>\n",
       "  </thead>\n",
       "  <tbody>\n",
       "    <tr>\n",
       "      <th>7</th>\n",
       "      <td>Chunk 500, overlap 15%</td>\n",
       "      <td>0.987654</td>\n",
       "      <td>0.872242</td>\n",
       "      <td>0.983333</td>\n",
       "      <td>1.0</td>\n",
       "      <td>0.977634</td>\n",
       "      <td>0.61061</td>\n",
       "      <td>0.905246</td>\n",
       "    </tr>\n",
       "  </tbody>\n",
       "</table>\n",
       "</div>"
      ],
      "text/plain": [
       "                   System  Faithfulness  Answer Relevancy  Context Precision  \\\n",
       "7  Chunk 500, overlap 15%      0.987654          0.872242           0.983333   \n",
       "\n",
       "   Context Recall  Answer Similarity  Answer Correctness   Average  \n",
       "7             1.0           0.977634             0.61061  0.905246  "
      ]
     },
     "execution_count": 49,
     "metadata": {},
     "output_type": "execute_result"
    }
   ],
   "source": [
    "highest = results_df.nlargest(1, \"Average\")\n",
    "highest"
   ]
  },
  {
   "cell_type": "code",
   "execution_count": 48,
   "metadata": {},
   "outputs": [],
   "source": [
    "results_df.to_csv(f\"../papers/results/results_reporting.csv\", index=False)"
   ]
  },
  {
   "cell_type": "markdown",
   "metadata": {},
   "source": [
    "### now time to look for different top-k\n",
    "\n",
    "Note: We continue with the size chunk of 1000 as it had the highest average score"
   ]
  },
  {
   "cell_type": "code",
   "execution_count": 50,
   "metadata": {},
   "outputs": [],
   "source": [
    "db_k = Chroma(persist_directory = \"../papers/vectordb-edit/chunking_500_15\", embedding_function=embeddings_client)"
   ]
  },
  {
   "cell_type": "code",
   "execution_count": 51,
   "metadata": {},
   "outputs": [
    {
     "name": "stderr",
     "output_type": "stream",
     "text": [
      "passing column names as 'ground_truths' is deprecated and will be removed in the next version, please use 'ground_truth' instead. Note that `ground_truth` should be of type string and not Sequence[string] like `ground_truths`\n",
      "Evaluating: 100%|██████████| 60/60 [00:10<00:00,  5.66it/s]\n"
     ]
    },
    {
     "name": "stdout",
     "output_type": "stream",
     "text": [
      "The average score is: 0.8984579430671776\n",
      "Results for K=2:\n",
      "                        System  Faithfulness  Answer Relevancy  \\\n",
      "0  Chunk 500, overlap 15%, K=2      0.945833          0.848406   \n",
      "\n",
      "   Context Precision  Context Recall  Answer Similarity  Answer Correctness  \\\n",
      "0                1.0        0.972115           0.970987            0.653406   \n",
      "\n",
      "    Average  \n",
      "0  0.898458  \n"
     ]
    },
    {
     "name": "stderr",
     "output_type": "stream",
     "text": [
      "passing column names as 'ground_truths' is deprecated and will be removed in the next version, please use 'ground_truth' instead. Note that `ground_truth` should be of type string and not Sequence[string] like `ground_truths`\n",
      "Evaluating:  28%|██▊       | 17/60 [00:04<00:10,  3.94it/s]Runner in Executor raised an exception\n",
      "TypeError: expected string or buffer\n",
      "Runner in Executor raised an exception\n",
      "TypeError: expected string or buffer\n",
      "Evaluating: 100%|██████████| 60/60 [00:10<00:00,  5.59it/s]\n"
     ]
    },
    {
     "name": "stdout",
     "output_type": "stream",
     "text": [
      "The average score is: 0.8884631335065118\n",
      "Results for K=3:\n",
      "                        System  Faithfulness  Answer Relevancy  \\\n",
      "0  Chunk 500, overlap 15%, K=3      0.882586          0.701695   \n",
      "\n",
      "   Context Precision  Context Recall  Answer Similarity  Answer Correctness  \\\n",
      "0           0.939808        0.925281            0.99146            0.889948   \n",
      "\n",
      "    Average  \n",
      "0  0.888463  \n"
     ]
    },
    {
     "name": "stderr",
     "output_type": "stream",
     "text": [
      "passing column names as 'ground_truths' is deprecated and will be removed in the next version, please use 'ground_truth' instead. Note that `ground_truth` should be of type string and not Sequence[string] like `ground_truths`\n",
      "Evaluating:  58%|█████▊    | 35/60 [00:05<00:01, 15.30it/s]Invalid JSON response. Expected dictionary with key 'question'\n",
      "Evaluating: 100%|██████████| 60/60 [00:10<00:00,  5.55it/s]\n"
     ]
    },
    {
     "name": "stdout",
     "output_type": "stream",
     "text": [
      "The average score is: 0.905995933811031\n",
      "This is the new best value!\n",
      "Results for K=5:\n",
      "                        System  Faithfulness  Answer Relevancy  \\\n",
      "0  Chunk 500, overlap 15%, K=5      0.965608          0.873658   \n",
      "\n",
      "   Context Precision  Context Recall  Answer Similarity  Answer Correctness  \\\n",
      "0           0.967083             1.0           0.980351            0.649275   \n",
      "\n",
      "    Average  \n",
      "0  0.905996  \n"
     ]
    },
    {
     "name": "stderr",
     "output_type": "stream",
     "text": [
      "passing column names as 'ground_truths' is deprecated and will be removed in the next version, please use 'ground_truth' instead. Note that `ground_truth` should be of type string and not Sequence[string] like `ground_truths`\n",
      "Evaluating: 100%|██████████| 60/60 [00:09<00:00,  6.54it/s]\n"
     ]
    },
    {
     "name": "stdout",
     "output_type": "stream",
     "text": [
      "The average score is: 0.9052579905677297\n",
      "Results for K=6:\n",
      "                        System  Faithfulness  Answer Relevancy  \\\n",
      "0  Chunk 500, overlap 15%, K=6      0.983333          0.865678   \n",
      "\n",
      "   Context Precision  Context Recall  Answer Similarity  Answer Correctness  \\\n",
      "0           0.952222             1.0           0.979103            0.651211   \n",
      "\n",
      "    Average  \n",
      "0  0.905258  \n"
     ]
    },
    {
     "name": "stderr",
     "output_type": "stream",
     "text": [
      "passing column names as 'ground_truths' is deprecated and will be removed in the next version, please use 'ground_truth' instead. Note that `ground_truth` should be of type string and not Sequence[string] like `ground_truths`\n",
      "Evaluating: 100%|██████████| 60/60 [00:16<00:00,  3.62it/s]\n"
     ]
    },
    {
     "name": "stdout",
     "output_type": "stream",
     "text": [
      "The average score is: 0.89344124229841\n",
      "Results for K=7:\n",
      "                        System  Faithfulness  Answer Relevancy  \\\n",
      "0  Chunk 500, overlap 15%, K=7      0.983333          0.874736   \n",
      "\n",
      "   Context Precision  Context Recall  Answer Similarity  Answer Correctness  \\\n",
      "0            0.94996             1.0           0.979863            0.572755   \n",
      "\n",
      "    Average  \n",
      "0  0.893441  \n"
     ]
    }
   ],
   "source": [
    "k_values = [2, 3, 5, 6, 7]\n",
    "\n",
    "# Iterate over different k values\n",
    "for k in k_values:\n",
    "    # Create retriever with k value\n",
    "    retriever = db_k.as_retriever(search_kwargs={\"k\": k})\n",
    "    \n",
    "    # Run and evaluate\n",
    "    result,results_df = run_and_evaluate(f\"Chunk 500, overlap 15%, K={k}\", retriever, prompt, llm, results_df)\n",
    "    print(f\"Results for K={k}:\")\n",
    "    print(result)"
   ]
  },
  {
   "cell_type": "code",
   "execution_count": null,
   "metadata": {},
   "outputs": [],
   "source": [
    "# retriever_3 = db_1000.as_retriever(search_kwargs={\"k\": 3})\n",
    "# result_3 = run_and_evaluate(retriever_3, prompt, llm)\n",
    "# print(\"CHUNK SIZE 1000, K=3\")\n",
    "# print(result_3)"
   ]
  },
  {
   "cell_type": "code",
   "execution_count": null,
   "metadata": {},
   "outputs": [],
   "source": [
    "# dict_result_3 = dictionary(result_3)"
   ]
  },
  {
   "cell_type": "code",
   "execution_count": null,
   "metadata": {},
   "outputs": [],
   "source": [
    "# retriever_5 = db_1000.as_retriever(search_kwargs={\"k\": 5})\n",
    "# result_5 = run_and_evaluate(retriever_5, prompt, llm)\n",
    "# print(\"CHUNK SIZE 1000, K=5\")\n",
    "# print(result_5)"
   ]
  },
  {
   "cell_type": "code",
   "execution_count": null,
   "metadata": {},
   "outputs": [],
   "source": [
    "# dict_result_5 = dictionary(result_5)"
   ]
  },
  {
   "cell_type": "code",
   "execution_count": null,
   "metadata": {},
   "outputs": [],
   "source": [
    "# retriever_6= db_1000.as_retriever(search_kwargs={\"k\": 6})\n",
    "# result_6 = run_and_evaluate(retriever_6, prompt, llm)\n",
    "# print(\"CHUNK SIZE 1000, K=5\")\n",
    "# print(result_6)"
   ]
  },
  {
   "cell_type": "code",
   "execution_count": null,
   "metadata": {},
   "outputs": [],
   "source": [
    "# dict_result_6 = dictionary(result_6)"
   ]
  },
  {
   "cell_type": "code",
   "execution_count": null,
   "metadata": {},
   "outputs": [],
   "source": [
    "# retriever_7= db_1000.as_retriever(search_kwargs={\"k\": 7})\n",
    "# result_7 = run_and_evaluate(retriever_7, prompt, llm)\n",
    "# print(\"CHUNK SIZE 1000, K=7\")\n",
    "# print(result_7)\n",
    "# dict_result_7 = dictionary(result_7)"
   ]
  },
  {
   "cell_type": "code",
   "execution_count": 53,
   "metadata": {},
   "outputs": [
    {
     "data": {
      "text/html": [
       "<div>\n",
       "<style scoped>\n",
       "    .dataframe tbody tr th:only-of-type {\n",
       "        vertical-align: middle;\n",
       "    }\n",
       "\n",
       "    .dataframe tbody tr th {\n",
       "        vertical-align: top;\n",
       "    }\n",
       "\n",
       "    .dataframe thead th {\n",
       "        text-align: right;\n",
       "    }\n",
       "</style>\n",
       "<table border=\"1\" class=\"dataframe\">\n",
       "  <thead>\n",
       "    <tr style=\"text-align: right;\">\n",
       "      <th></th>\n",
       "      <th>System</th>\n",
       "      <th>Faithfulness</th>\n",
       "      <th>Answer Relevancy</th>\n",
       "      <th>Context Precision</th>\n",
       "      <th>Context Recall</th>\n",
       "      <th>Answer Similarity</th>\n",
       "      <th>Answer Correctness</th>\n",
       "      <th>Average</th>\n",
       "    </tr>\n",
       "  </thead>\n",
       "  <tbody>\n",
       "    <tr>\n",
       "      <th>26</th>\n",
       "      <td>Chunk 500, overlap 15%, K=5</td>\n",
       "      <td>0.965608</td>\n",
       "      <td>0.873658</td>\n",
       "      <td>0.967083</td>\n",
       "      <td>1.0</td>\n",
       "      <td>0.980351</td>\n",
       "      <td>0.649275</td>\n",
       "      <td>0.905996</td>\n",
       "    </tr>\n",
       "  </tbody>\n",
       "</table>\n",
       "</div>"
      ],
      "text/plain": [
       "                         System  Faithfulness  Answer Relevancy  \\\n",
       "26  Chunk 500, overlap 15%, K=5      0.965608          0.873658   \n",
       "\n",
       "    Context Precision  Context Recall  Answer Similarity  Answer Correctness  \\\n",
       "26           0.967083             1.0           0.980351            0.649275   \n",
       "\n",
       "     Average  \n",
       "26  0.905996  "
      ]
     },
     "execution_count": 53,
     "metadata": {},
     "output_type": "execute_result"
    }
   ],
   "source": [
    "highest = results_df.nlargest(1, \"Average\")\n",
    "highest"
   ]
  },
  {
   "cell_type": "markdown",
   "metadata": {},
   "source": [
    "### look for different retrievers\n"
   ]
  },
  {
   "cell_type": "markdown",
   "metadata": {},
   "source": [
    "#### parent document retriever"
   ]
  },
  {
   "cell_type": "code",
   "execution_count": 62,
   "metadata": {},
   "outputs": [
    {
     "name": "stderr",
     "output_type": "stream",
     "text": [
      "passing column names as 'ground_truths' is deprecated and will be removed in the next version, please use 'ground_truth' instead. Note that `ground_truth` should be of type string and not Sequence[string] like `ground_truths`\n",
      "Evaluating:  20%|██        | 12/60 [00:05<00:22,  2.14it/s]Runner in Executor raised an exception\n",
      "TypeError: expected string or buffer\n",
      "Evaluating: 100%|██████████| 60/60 [00:10<00:00,  5.56it/s]\n"
     ]
    },
    {
     "name": "stdout",
     "output_type": "stream",
     "text": [
      "The average score is: 0.8949698260662626\n",
      "                      System  Faithfulness  Answer Relevancy  \\\n",
      "0  Parent Retriever 1000-200      0.848293          0.913773   \n",
      "\n",
      "   Context Precision  Context Recall  Answer Similarity  Answer Correctness  \\\n",
      "0           0.957171             1.0           0.978647            0.671934   \n",
      "\n",
      "   Average  \n",
      "0  0.89497  \n"
     ]
    }
   ],
   "source": [
    "from langchain.retrievers import ParentDocumentRetriever\n",
    "from langchain.storage import InMemoryStore\n",
    "\n",
    "parent_splitter = RecursiveCharacterTextSplitter.from_tiktoken_encoder(chunk_size=1000, chunk_overlap = 200)\n",
    "child_splitter = RecursiveCharacterTextSplitter.from_tiktoken_encoder(chunk_size=200, chunk_overlap = 0)\n",
    "\n",
    "vectorstore = Chroma(collection_name=\"split_parents\",persist_directory = \"../papers/vectordb-edit/parent-report\", embedding_function=embeddings_client)\n",
    "store = InMemoryStore()\n",
    "parent_document_retriever = ParentDocumentRetriever(\n",
    "    vectorstore=vectorstore,\n",
    "    docstore=store,\n",
    "    child_splitter=child_splitter,\n",
    "    parent_splitter=parent_splitter,\n",
    ")\n",
    "parent_document_retriever.add_documents(documents)\n",
    "result_parent, results_df = run_and_evaluate(f\"Parent Retriever 1000-200\", parent_document_retriever, prompt, llm, results_df)\n",
    "print(result_parent)"
   ]
  },
  {
   "cell_type": "code",
   "execution_count": 66,
   "metadata": {},
   "outputs": [
    {
     "name": "stderr",
     "output_type": "stream",
     "text": [
      "passing column names as 'ground_truths' is deprecated and will be removed in the next version, please use 'ground_truth' instead. Note that `ground_truth` should be of type string and not Sequence[string] like `ground_truths`\n",
      "Evaluating:  10%|█         | 6/60 [00:02<00:19,  2.77it/s]Runner in Executor raised an exception\n",
      "TypeError: expected string or buffer\n",
      "Evaluating: 100%|██████████| 60/60 [00:10<00:00,  5.59it/s]\n"
     ]
    },
    {
     "name": "stdout",
     "output_type": "stream",
     "text": [
      "The average score is: 0.8848851364272386\n",
      "                     System  Faithfulness  Answer Relevancy  \\\n",
      "0  Parent Retriever 500-100       0.83553          0.901562   \n",
      "\n",
      "   Context Precision  Context Recall  Answer Similarity  Answer Correctness  \\\n",
      "0           0.912543        0.958333           0.983373             0.71797   \n",
      "\n",
      "    Average  \n",
      "0  0.884885  \n"
     ]
    }
   ],
   "source": [
    "parent_splitter_small = RecursiveCharacterTextSplitter.from_tiktoken_encoder(chunk_size=500, chunk_overlap = 50)\n",
    "child_splitter_small = RecursiveCharacterTextSplitter.from_tiktoken_encoder(chunk_size=100, chunk_overlap = 0)\n",
    "\n",
    "vectorstore = Chroma(collection_name=\"split_parents_small\",persist_directory = \"../papers/vectordb-edit/parent_small-summary\", embedding_function=embeddings_client)\n",
    "store = InMemoryStore()\n",
    "parent_document_retriever_small = ParentDocumentRetriever(\n",
    "    vectorstore=vectorstore,\n",
    "    docstore=store,\n",
    "    child_splitter=child_splitter_small,\n",
    "    parent_splitter=parent_splitter_small,\n",
    ")\n",
    "parent_document_retriever_small.add_documents(documents)\n",
    "result_parent_small, results_df = run_and_evaluate(f\"Parent Retriever 500-100\", parent_document_retriever_small, prompt, llm, results_df)\n",
    "print(result_parent_small)"
   ]
  },
  {
   "cell_type": "code",
   "execution_count": 67,
   "metadata": {},
   "outputs": [
    {
     "name": "stderr",
     "output_type": "stream",
     "text": [
      "passing column names as 'ground_truths' is deprecated and will be removed in the next version, please use 'ground_truth' instead. Note that `ground_truth` should be of type string and not Sequence[string] like `ground_truths`\n",
      "Evaluating: 100%|██████████| 60/60 [00:11<00:00,  5.44it/s]\n"
     ]
    },
    {
     "name": "stdout",
     "output_type": "stream",
     "text": [
      "The average score is: 0.9019985310619424\n",
      "                      System  Faithfulness  Answer Relevancy  \\\n",
      "0  Parent Retriever 1500-200          0.96          0.884597   \n",
      "\n",
      "   Context Precision  Context Recall  Answer Similarity  Answer Correctness  \\\n",
      "0           0.947222             1.0           0.978609            0.641562   \n",
      "\n",
      "    Average  \n",
      "0  0.901999  \n"
     ]
    }
   ],
   "source": [
    "parent_splitter_large = RecursiveCharacterTextSplitter.from_tiktoken_encoder(chunk_size=1500, chunk_overlap = 150)\n",
    "child_splitter_large = RecursiveCharacterTextSplitter.from_tiktoken_encoder(chunk_size=200, chunk_overlap = 0)\n",
    "\n",
    "vectorstore = Chroma(collection_name=\"split_parents_large\",persist_directory = \"../papers/vectordb-edit/parent_large-summary\", embedding_function=embeddings_client)\n",
    "store = InMemoryStore()\n",
    "parent_document_retriever_large = ParentDocumentRetriever(\n",
    "    vectorstore=vectorstore,\n",
    "    docstore=store,\n",
    "    child_splitter=child_splitter_large,\n",
    "    parent_splitter=parent_splitter_large,\n",
    ")\n",
    "parent_document_retriever_large.add_documents(documents)\n",
    "result_parent_large , results_df = run_and_evaluate(f\"Parent Retriever 1500-200\", parent_document_retriever_small, prompt, llm, results_df)\n",
    "print(result_parent_large)"
   ]
  },
  {
   "cell_type": "code",
   "execution_count": 63,
   "metadata": {},
   "outputs": [
    {
     "data": {
      "text/html": [
       "<div>\n",
       "<style scoped>\n",
       "    .dataframe tbody tr th:only-of-type {\n",
       "        vertical-align: middle;\n",
       "    }\n",
       "\n",
       "    .dataframe tbody tr th {\n",
       "        vertical-align: top;\n",
       "    }\n",
       "\n",
       "    .dataframe thead th {\n",
       "        text-align: right;\n",
       "    }\n",
       "</style>\n",
       "<table border=\"1\" class=\"dataframe\">\n",
       "  <thead>\n",
       "    <tr style=\"text-align: right;\">\n",
       "      <th></th>\n",
       "      <th>System</th>\n",
       "      <th>Faithfulness</th>\n",
       "      <th>Answer Relevancy</th>\n",
       "      <th>Context Precision</th>\n",
       "      <th>Context Recall</th>\n",
       "      <th>Answer Similarity</th>\n",
       "      <th>Answer Correctness</th>\n",
       "      <th>Average</th>\n",
       "    </tr>\n",
       "  </thead>\n",
       "  <tbody>\n",
       "    <tr>\n",
       "      <th>26</th>\n",
       "      <td>Chunk 500, overlap 15%, K=5</td>\n",
       "      <td>0.965608</td>\n",
       "      <td>0.873658</td>\n",
       "      <td>0.967083</td>\n",
       "      <td>1.0</td>\n",
       "      <td>0.980351</td>\n",
       "      <td>0.649275</td>\n",
       "      <td>0.905996</td>\n",
       "    </tr>\n",
       "  </tbody>\n",
       "</table>\n",
       "</div>"
      ],
      "text/plain": [
       "                         System  Faithfulness  Answer Relevancy  \\\n",
       "26  Chunk 500, overlap 15%, K=5      0.965608          0.873658   \n",
       "\n",
       "    Context Precision  Context Recall  Answer Similarity  Answer Correctness  \\\n",
       "26           0.967083             1.0           0.980351            0.649275   \n",
       "\n",
       "     Average  \n",
       "26  0.905996  "
      ]
     },
     "execution_count": 63,
     "metadata": {},
     "output_type": "execute_result"
    }
   ],
   "source": [
    "highest = results_df.nlargest(1, \"Average\")\n",
    "highest"
   ]
  },
  {
   "cell_type": "markdown",
   "metadata": {},
   "source": [
    "#### Maximum marginal relevance retrieval"
   ]
  },
  {
   "cell_type": "code",
   "execution_count": 54,
   "metadata": {},
   "outputs": [
    {
     "name": "stderr",
     "output_type": "stream",
     "text": [
      "passing column names as 'ground_truths' is deprecated and will be removed in the next version, please use 'ground_truth' instead. Note that `ground_truth` should be of type string and not Sequence[string] like `ground_truths`\n",
      "Evaluating:  22%|██▏       | 13/60 [00:04<00:16,  2.84it/s]Runner in Executor raised an exception\n",
      "TypeError: expected string or buffer\n",
      "Evaluating: 100%|██████████| 60/60 [00:11<00:00,  5.12it/s]\n"
     ]
    },
    {
     "name": "stdout",
     "output_type": "stream",
     "text": [
      "The average score is: 0.8638864433945551\n",
      "Marginal relevance\n",
      "  System  Faithfulness  Answer Relevancy  Context Precision  Context Recall  \\\n",
      "0    MMR      0.802754          0.933615           0.854385        0.891667   \n",
      "\n",
      "   Answer Similarity  Answer Correctness   Average  \n",
      "0           0.984872            0.716026  0.863886  \n"
     ]
    }
   ],
   "source": [
    "retriever_mmr = db_k.as_retriever(search_type=\"mmr\",search_kwargs={\"k\": 5})\n",
    "result_mmr, results_df = run_and_evaluate(f\"MMR\", retriever_mmr, prompt, llm, results_df)\n",
    "print(\"Marginal relevance\")\n",
    "print(result_mmr)"
   ]
  },
  {
   "cell_type": "markdown",
   "metadata": {},
   "source": [
    "#### BM25"
   ]
  },
  {
   "cell_type": "code",
   "execution_count": 55,
   "metadata": {},
   "outputs": [],
   "source": [
    "text_splitter = RecursiveCharacterTextSplitter.from_tiktoken_encoder(chunk_size = 500, chunk_overlap = 75)\n",
    "chunks_2000 = text_splitter.split_documents(documents)"
   ]
  },
  {
   "cell_type": "code",
   "execution_count": 56,
   "metadata": {},
   "outputs": [
    {
     "name": "stderr",
     "output_type": "stream",
     "text": [
      "passing column names as 'ground_truths' is deprecated and will be removed in the next version, please use 'ground_truth' instead. Note that `ground_truth` should be of type string and not Sequence[string] like `ground_truths`\n",
      "Evaluating:  18%|█▊        | 11/60 [00:02<00:09,  5.13it/s]Runner in Executor raised an exception\n",
      "TypeError: expected string or buffer\n",
      "Evaluating: 100%|██████████| 60/60 [00:12<00:00,  4.97it/s]\n"
     ]
    },
    {
     "name": "stdout",
     "output_type": "stream",
     "text": [
      "The average score is: 0.890429581684527\n",
      "BM25\n",
      "  System  Faithfulness  Answer Relevancy  Context Precision  Context Recall  \\\n",
      "0   BM25      0.937017          0.890066           0.922367           0.945   \n",
      "\n",
      "   Answer Similarity  Answer Correctness  Average  \n",
      "0           0.983907             0.66422  0.89043  \n"
     ]
    }
   ],
   "source": [
    "from langchain.retrievers import BM25Retriever\n",
    "retriever_bm25 = BM25Retriever.from_documents(chunks_2000, search_kwargs={\"k\": 5})\n",
    "result_bm25, results_df = run_and_evaluate(f\"BM25\", retriever_bm25, prompt, llm, results_df)\n",
    "print(\"BM25\")\n",
    "print(result_bm25)"
   ]
  },
  {
   "cell_type": "markdown",
   "metadata": {},
   "source": [
    "#### Ensambler - Hybrid"
   ]
  },
  {
   "cell_type": "code",
   "execution_count": 57,
   "metadata": {},
   "outputs": [],
   "source": [
    "ret = db_k.as_retriever(search_kwargs={\"k\": 5})"
   ]
  },
  {
   "cell_type": "code",
   "execution_count": 58,
   "metadata": {},
   "outputs": [
    {
     "name": "stderr",
     "output_type": "stream",
     "text": [
      "passing column names as 'ground_truths' is deprecated and will be removed in the next version, please use 'ground_truth' instead. Note that `ground_truth` should be of type string and not Sequence[string] like `ground_truths`\n",
      "Evaluating:  20%|██        | 12/60 [00:04<00:21,  2.27it/s]Runner in Executor raised an exception\n",
      "TypeError: expected string or buffer\n",
      "Evaluating: 100%|██████████| 60/60 [00:12<00:00,  4.93it/s]\n"
     ]
    },
    {
     "name": "stdout",
     "output_type": "stream",
     "text": [
      "The average score is: 0.8902747453103342\n",
      "Ensambler\n",
      "        System  Faithfulness  Answer Relevancy  Context Precision  \\\n",
      "0  Ensambler 1           1.0          0.887128           0.918554   \n",
      "\n",
      "   Context Recall  Answer Similarity  Answer Correctness   Average  \n",
      "0             1.0           0.972405            0.563561  0.890275  \n"
     ]
    }
   ],
   "source": [
    "from langchain.retrievers import EnsembleRetriever\n",
    "ensemble_retriever_1 = EnsembleRetriever(retrievers=[retriever_bm25, ret], weights=[0.75, 0.25])\n",
    "result_ensemble1, results_df = run_and_evaluate(f\"Ensambler 1\", ensemble_retriever_1, prompt, llm, results_df)\n",
    "print(\"Ensambler\")\n",
    "print(result_ensemble1)"
   ]
  },
  {
   "cell_type": "code",
   "execution_count": 59,
   "metadata": {},
   "outputs": [
    {
     "name": "stderr",
     "output_type": "stream",
     "text": [
      "passing column names as 'ground_truths' is deprecated and will be removed in the next version, please use 'ground_truth' instead. Note that `ground_truth` should be of type string and not Sequence[string] like `ground_truths`\n",
      "Evaluating: 100%|██████████| 60/60 [00:15<00:00,  3.81it/s]\n"
     ]
    },
    {
     "name": "stdout",
     "output_type": "stream",
     "text": [
      "The average score is: 0.8970552267707715\n",
      "Ensambler\n",
      "        System  Faithfulness  Answer Relevancy  Context Precision  \\\n",
      "0  Ensambler 2          0.98          0.855641           0.939841   \n",
      "\n",
      "   Context Recall  Answer Similarity  Answer Correctness   Average  \n",
      "0             1.0           0.975301            0.631548  0.897055  \n"
     ]
    }
   ],
   "source": [
    "ensemble_retriever_2 = EnsembleRetriever(retrievers=[retriever_bm25, ret], weights=[0.5, 0.5])\n",
    "result_ensemble2, results_df = run_and_evaluate(f\"Ensambler 2\", ensemble_retriever_2, prompt, llm, results_df)\n",
    "print(\"Ensambler\")\n",
    "print(result_ensemble2)"
   ]
  },
  {
   "cell_type": "code",
   "execution_count": 60,
   "metadata": {},
   "outputs": [
    {
     "name": "stderr",
     "output_type": "stream",
     "text": [
      "passing column names as 'ground_truths' is deprecated and will be removed in the next version, please use 'ground_truth' instead. Note that `ground_truth` should be of type string and not Sequence[string] like `ground_truths`\n",
      "Evaluating: 100%|██████████| 60/60 [00:17<00:00,  3.43it/s]\n"
     ]
    },
    {
     "name": "stdout",
     "output_type": "stream",
     "text": [
      "The average score is: 0.8772832957287428\n",
      "Ensambler\n",
      "        System  Faithfulness  Answer Relevancy  Context Precision  \\\n",
      "0  Ensambler 3      0.957143          0.851376           0.942063   \n",
      "\n",
      "   Context Recall  Answer Similarity  Answer Correctness   Average  \n",
      "0             1.0           0.972925            0.540192  0.877283  \n"
     ]
    }
   ],
   "source": [
    "ensemble_retriever_3 = EnsembleRetriever(retrievers=[retriever_bm25, ret], weights=[0.25,0.75])\n",
    "result_ensemble3, results_df = run_and_evaluate(f\"Ensambler 3\", ensemble_retriever_3, prompt, llm, results_df)\n",
    "print(\"Ensambler\")\n",
    "print(result_ensemble3)"
   ]
  },
  {
   "cell_type": "markdown",
   "metadata": {},
   "source": [
    "#### Multi-stage - reranker"
   ]
  },
  {
   "cell_type": "code",
   "execution_count": null,
   "metadata": {},
   "outputs": [],
   "source": [
    "os.environ[\"COHERE_API_KEY\"] = getpass.getpass(\"Cohere API Key:\")"
   ]
  },
  {
   "cell_type": "code",
   "execution_count": null,
   "metadata": {},
   "outputs": [],
   "source": [
    "retriever_context = retriever_mmr\n",
    "compressor = CohereRerank(top_n=6)\n",
    "compression_retriever = ContextualCompressionRetriever(\n",
    "    base_compressor=compressor, base_retriever=retriever_context\n",
    ")\n",
    "\n",
    "result_compression = run_and_evaluate(compression_retriever, prompt, llm)\n",
    "print(\"Reranker\")\n",
    "print(result_compression)\n",
    "avg_result_compression = dictionary(result_compression)"
   ]
  },
  {
   "cell_type": "markdown",
   "metadata": {},
   "source": [
    "#### creating context by remaking the query"
   ]
  },
  {
   "cell_type": "code",
   "execution_count": 68,
   "metadata": {},
   "outputs": [
    {
     "data": {
      "text/html": [
       "<div>\n",
       "<style scoped>\n",
       "    .dataframe tbody tr th:only-of-type {\n",
       "        vertical-align: middle;\n",
       "    }\n",
       "\n",
       "    .dataframe tbody tr th {\n",
       "        vertical-align: top;\n",
       "    }\n",
       "\n",
       "    .dataframe thead th {\n",
       "        text-align: right;\n",
       "    }\n",
       "</style>\n",
       "<table border=\"1\" class=\"dataframe\">\n",
       "  <thead>\n",
       "    <tr style=\"text-align: right;\">\n",
       "      <th></th>\n",
       "      <th>System</th>\n",
       "      <th>Faithfulness</th>\n",
       "      <th>Answer Relevancy</th>\n",
       "      <th>Context Precision</th>\n",
       "      <th>Context Recall</th>\n",
       "      <th>Answer Similarity</th>\n",
       "      <th>Answer Correctness</th>\n",
       "      <th>Average</th>\n",
       "    </tr>\n",
       "  </thead>\n",
       "  <tbody>\n",
       "    <tr>\n",
       "      <th>26</th>\n",
       "      <td>Chunk 500, overlap 15%, K=5</td>\n",
       "      <td>0.965608</td>\n",
       "      <td>0.873658</td>\n",
       "      <td>0.967083</td>\n",
       "      <td>1.0</td>\n",
       "      <td>0.980351</td>\n",
       "      <td>0.649275</td>\n",
       "      <td>0.905996</td>\n",
       "    </tr>\n",
       "  </tbody>\n",
       "</table>\n",
       "</div>"
      ],
      "text/plain": [
       "                         System  Faithfulness  Answer Relevancy  \\\n",
       "26  Chunk 500, overlap 15%, K=5      0.965608          0.873658   \n",
       "\n",
       "    Context Precision  Context Recall  Answer Similarity  Answer Correctness  \\\n",
       "26           0.967083             1.0           0.980351            0.649275   \n",
       "\n",
       "     Average  \n",
       "26  0.905996  "
      ]
     },
     "execution_count": 68,
     "metadata": {},
     "output_type": "execute_result"
    }
   ],
   "source": [
    "highest = results_df.nlargest(1, \"Average\")\n",
    "highest"
   ]
  },
  {
   "cell_type": "code",
   "execution_count": 70,
   "metadata": {},
   "outputs": [],
   "source": [
    "template_context = \"Generate a search query to fetch the relevant documents using the user's {question}. Craft a query that specifically targets the keywords in the question. In the answer provide only the query.\"\n",
    "prompt_context = ChatPromptTemplate.from_template(template_context)"
   ]
  },
  {
   "cell_type": "code",
   "execution_count": 71,
   "metadata": {},
   "outputs": [
    {
     "name": "stderr",
     "output_type": "stream",
     "text": [
      "passing column names as 'ground_truths' is deprecated and will be removed in the next version, please use 'ground_truth' instead. Note that `ground_truth` should be of type string and not Sequence[string] like `ground_truths`\n",
      "Evaluating:  22%|██▏       | 13/60 [00:05<00:21,  2.23it/s]Runner in Executor raised an exception\n",
      "TypeError: expected string or buffer\n",
      "Evaluating: 100%|██████████| 60/60 [00:12<00:00,  4.78it/s]\n"
     ]
    },
    {
     "data": {
      "text/plain": [
       "{'faithfulness': 0.7289, 'answer_relevancy': 0.9634, 'context_precision': 0.8745, 'context_recall': 1.0000, 'answer_similarity': 0.9953, 'answer_correctness': 0.9217}"
      ]
     },
     "execution_count": 71,
     "metadata": {},
     "output_type": "execute_result"
    }
   ],
   "source": [
    "answers_final = []\n",
    "contexts_final = []\n",
    "# retriever_context_q = EnsembleRetriever(retrievers=[retriever_bm25, retriever_3], weights=[0.5, 0.5])\n",
    "llm_for_context =(\n",
    "    { \"question\": itemgetter(\"question\")}\n",
    "    | RunnablePassthrough()\n",
    "    | {\"response\": prompt_context | llm}\n",
    ")\n",
    "for query in questions:\n",
    "    response_check = llm_for_context.invoke({\"question\": query})\n",
    "    search_query = response_check[\"response\"].content\n",
    "    retrieval_augmented_qa_chain = (\n",
    "        {\"context\": itemgetter(\"context\"), \"question\": itemgetter(\"question\")}\n",
    "        | RunnablePassthrough.assign(context=itemgetter(\"context\"))\n",
    "        | {\"response\": prompt | llm, \"context\": itemgetter(\"context\")}\n",
    ")\n",
    "    docs = ret.get_relevant_documents(search_query)\n",
    "    formatted_docs = []\n",
    "    for doc in docs:\n",
    "        resulting_doc = doc.page_content\n",
    "        formatted_docs.append(resulting_doc)\n",
    "    try:  \n",
    "            response = retrieval_augmented_qa_chain.invoke({\"context\": formatted_docs, \"question\": query})\n",
    "            # Access the response content\n",
    "            answers_final.append(response[\"response\"].content)\n",
    "            contexts_final.append(formatted_docs)  \n",
    "    except Exception as e:  \n",
    "            print(f\"Warning: {e}\" + \"on the following question: \" + query)  \n",
    "            answers_final.append(\"No answer\")\n",
    "            contexts_final.append(formatted_docs)\n",
    "\n",
    "\n",
    "result_search_query = evaluation_rag(questions, answers_final, contexts_final, ground_truths)\n",
    "result_search_query"
   ]
  },
  {
   "cell_type": "code",
   "execution_count": 72,
   "metadata": {},
   "outputs": [
    {
     "name": "stdout",
     "output_type": "stream",
     "text": [
      "The average score is: 0.9139344985923543\n",
      "This is the new best value!\n"
     ]
    }
   ],
   "source": [
    "average = dictionary(result_search_query)\n",
    "    # Create a dictionary to store the results\n",
    "system_results = {\n",
    "        \"System\": \"Search query\",\n",
    "        \"Faithfulness\": result_search_query[\"faithfulness\"],\n",
    "        \"Answer Relevancy\": result_search_query[\"answer_relevancy\"],\n",
    "        \"Context Precision\": result_search_query[\"context_precision\"],\n",
    "        \"Context Recall\": result_search_query[\"context_recall\"],\n",
    "        \"Answer Similarity\": result_search_query[\"answer_similarity\"],\n",
    "        \"Answer Correctness\": result_search_query[\"answer_correctness\"],\n",
    "        \"Average\": average\n",
    "    }\n",
    "df_result_search_query = pd.DataFrame([system_results])"
   ]
  },
  {
   "cell_type": "code",
   "execution_count": 73,
   "metadata": {},
   "outputs": [
    {
     "data": {
      "text/html": [
       "<div>\n",
       "<style scoped>\n",
       "    .dataframe tbody tr th:only-of-type {\n",
       "        vertical-align: middle;\n",
       "    }\n",
       "\n",
       "    .dataframe tbody tr th {\n",
       "        vertical-align: top;\n",
       "    }\n",
       "\n",
       "    .dataframe thead th {\n",
       "        text-align: right;\n",
       "    }\n",
       "</style>\n",
       "<table border=\"1\" class=\"dataframe\">\n",
       "  <thead>\n",
       "    <tr style=\"text-align: right;\">\n",
       "      <th></th>\n",
       "      <th>System</th>\n",
       "      <th>Faithfulness</th>\n",
       "      <th>Answer Relevancy</th>\n",
       "      <th>Context Precision</th>\n",
       "      <th>Context Recall</th>\n",
       "      <th>Answer Similarity</th>\n",
       "      <th>Answer Correctness</th>\n",
       "      <th>Average</th>\n",
       "    </tr>\n",
       "  </thead>\n",
       "  <tbody>\n",
       "    <tr>\n",
       "      <th>0</th>\n",
       "      <td>GPT-3.5</td>\n",
       "      <td>0.817609</td>\n",
       "      <td>0.795673</td>\n",
       "      <td>NaN</td>\n",
       "      <td>NaN</td>\n",
       "      <td>0.984847</td>\n",
       "      <td>0.648560</td>\n",
       "      <td>0.831677</td>\n",
       "    </tr>\n",
       "    <tr>\n",
       "      <th>1</th>\n",
       "      <td>GPT-4</td>\n",
       "      <td>0.837413</td>\n",
       "      <td>0.873383</td>\n",
       "      <td>NaN</td>\n",
       "      <td>NaN</td>\n",
       "      <td>0.911056</td>\n",
       "      <td>0.667323</td>\n",
       "      <td>0.838145</td>\n",
       "    </tr>\n",
       "    <tr>\n",
       "      <th>2</th>\n",
       "      <td>Naive</td>\n",
       "      <td>0.987654</td>\n",
       "      <td>0.860312</td>\n",
       "      <td>1.000000</td>\n",
       "      <td>0.925000</td>\n",
       "      <td>0.975971</td>\n",
       "      <td>0.542932</td>\n",
       "      <td>0.881978</td>\n",
       "    </tr>\n",
       "    <tr>\n",
       "      <th>3</th>\n",
       "      <td>Recursive</td>\n",
       "      <td>0.987654</td>\n",
       "      <td>0.858120</td>\n",
       "      <td>1.000000</td>\n",
       "      <td>0.950000</td>\n",
       "      <td>0.975971</td>\n",
       "      <td>0.533491</td>\n",
       "      <td>0.884206</td>\n",
       "    </tr>\n",
       "    <tr>\n",
       "      <th>4</th>\n",
       "      <td>Chunk 500, overlap 0%</td>\n",
       "      <td>0.930000</td>\n",
       "      <td>0.877987</td>\n",
       "      <td>0.983333</td>\n",
       "      <td>1.000000</td>\n",
       "      <td>0.978099</td>\n",
       "      <td>0.565855</td>\n",
       "      <td>0.889212</td>\n",
       "    </tr>\n",
       "    <tr>\n",
       "      <th>5</th>\n",
       "      <td>Chunk 500, overlap 5%</td>\n",
       "      <td>0.936667</td>\n",
       "      <td>0.882256</td>\n",
       "      <td>1.000000</td>\n",
       "      <td>0.966667</td>\n",
       "      <td>0.981681</td>\n",
       "      <td>0.549027</td>\n",
       "      <td>0.886050</td>\n",
       "    </tr>\n",
       "    <tr>\n",
       "      <th>6</th>\n",
       "      <td>Chunk 500, overlap 10%</td>\n",
       "      <td>0.940476</td>\n",
       "      <td>0.874959</td>\n",
       "      <td>0.991667</td>\n",
       "      <td>1.000000</td>\n",
       "      <td>0.977794</td>\n",
       "      <td>0.581521</td>\n",
       "      <td>0.894403</td>\n",
       "    </tr>\n",
       "    <tr>\n",
       "      <th>7</th>\n",
       "      <td>Chunk 500, overlap 15%</td>\n",
       "      <td>0.987654</td>\n",
       "      <td>0.872242</td>\n",
       "      <td>0.983333</td>\n",
       "      <td>1.000000</td>\n",
       "      <td>0.977634</td>\n",
       "      <td>0.610610</td>\n",
       "      <td>0.905246</td>\n",
       "    </tr>\n",
       "    <tr>\n",
       "      <th>8</th>\n",
       "      <td>Chunk 500, overlap 20%</td>\n",
       "      <td>0.935556</td>\n",
       "      <td>0.892518</td>\n",
       "      <td>0.991667</td>\n",
       "      <td>0.950000</td>\n",
       "      <td>0.981038</td>\n",
       "      <td>0.615212</td>\n",
       "      <td>0.894332</td>\n",
       "    </tr>\n",
       "    <tr>\n",
       "      <th>9</th>\n",
       "      <td>Chunk 1000, overlap 0%</td>\n",
       "      <td>0.641996</td>\n",
       "      <td>0.931064</td>\n",
       "      <td>0.866918</td>\n",
       "      <td>0.991667</td>\n",
       "      <td>0.939922</td>\n",
       "      <td>0.875984</td>\n",
       "      <td>0.874592</td>\n",
       "    </tr>\n",
       "    <tr>\n",
       "      <th>10</th>\n",
       "      <td>Chunk 1000, overlap 5%</td>\n",
       "      <td>0.958333</td>\n",
       "      <td>0.853123</td>\n",
       "      <td>0.963889</td>\n",
       "      <td>0.950000</td>\n",
       "      <td>0.979277</td>\n",
       "      <td>0.624804</td>\n",
       "      <td>0.888238</td>\n",
       "    </tr>\n",
       "    <tr>\n",
       "      <th>11</th>\n",
       "      <td>Chunk 1000, overlap 10%</td>\n",
       "      <td>0.958333</td>\n",
       "      <td>0.860493</td>\n",
       "      <td>0.963889</td>\n",
       "      <td>0.940000</td>\n",
       "      <td>0.977073</td>\n",
       "      <td>0.563398</td>\n",
       "      <td>0.877198</td>\n",
       "    </tr>\n",
       "    <tr>\n",
       "      <th>12</th>\n",
       "      <td>Chunk 1000, overlap 15%</td>\n",
       "      <td>0.986111</td>\n",
       "      <td>0.877419</td>\n",
       "      <td>0.958333</td>\n",
       "      <td>0.950000</td>\n",
       "      <td>0.979829</td>\n",
       "      <td>0.571016</td>\n",
       "      <td>0.887118</td>\n",
       "    </tr>\n",
       "    <tr>\n",
       "      <th>13</th>\n",
       "      <td>Chunk 1000, overlap 20%</td>\n",
       "      <td>0.986111</td>\n",
       "      <td>0.875070</td>\n",
       "      <td>0.980556</td>\n",
       "      <td>0.950000</td>\n",
       "      <td>0.974512</td>\n",
       "      <td>0.603851</td>\n",
       "      <td>0.895017</td>\n",
       "    </tr>\n",
       "    <tr>\n",
       "      <th>14</th>\n",
       "      <td>Chunk 2000, overlap 0%</td>\n",
       "      <td>1.000000</td>\n",
       "      <td>0.850555</td>\n",
       "      <td>0.991667</td>\n",
       "      <td>0.950000</td>\n",
       "      <td>0.976766</td>\n",
       "      <td>0.528189</td>\n",
       "      <td>0.882863</td>\n",
       "    </tr>\n",
       "    <tr>\n",
       "      <th>15</th>\n",
       "      <td>Chunk 2000, overlap 5%</td>\n",
       "      <td>1.000000</td>\n",
       "      <td>0.845182</td>\n",
       "      <td>0.975000</td>\n",
       "      <td>0.950000</td>\n",
       "      <td>0.977052</td>\n",
       "      <td>0.525371</td>\n",
       "      <td>0.878768</td>\n",
       "    </tr>\n",
       "    <tr>\n",
       "      <th>16</th>\n",
       "      <td>Chunk 2000, overlap 10%</td>\n",
       "      <td>1.000000</td>\n",
       "      <td>0.858404</td>\n",
       "      <td>0.991667</td>\n",
       "      <td>0.934615</td>\n",
       "      <td>0.976766</td>\n",
       "      <td>0.540821</td>\n",
       "      <td>0.883712</td>\n",
       "    </tr>\n",
       "    <tr>\n",
       "      <th>17</th>\n",
       "      <td>Chunk 2000, overlap 15%</td>\n",
       "      <td>0.692778</td>\n",
       "      <td>0.959611</td>\n",
       "      <td>0.904710</td>\n",
       "      <td>0.941667</td>\n",
       "      <td>0.988970</td>\n",
       "      <td>0.816572</td>\n",
       "      <td>0.884051</td>\n",
       "    </tr>\n",
       "    <tr>\n",
       "      <th>18</th>\n",
       "      <td>Chunk 2000, overlap 20%</td>\n",
       "      <td>1.000000</td>\n",
       "      <td>0.853904</td>\n",
       "      <td>0.975000</td>\n",
       "      <td>0.940000</td>\n",
       "      <td>0.973043</td>\n",
       "      <td>0.521741</td>\n",
       "      <td>0.877281</td>\n",
       "    </tr>\n",
       "    <tr>\n",
       "      <th>19</th>\n",
       "      <td>Chunk 3000, overlap 0%</td>\n",
       "      <td>1.000000</td>\n",
       "      <td>0.852014</td>\n",
       "      <td>0.991667</td>\n",
       "      <td>0.950000</td>\n",
       "      <td>0.976766</td>\n",
       "      <td>0.550811</td>\n",
       "      <td>0.886876</td>\n",
       "    </tr>\n",
       "    <tr>\n",
       "      <th>20</th>\n",
       "      <td>Chunk 3000, overlap 5%</td>\n",
       "      <td>1.000000</td>\n",
       "      <td>0.853427</td>\n",
       "      <td>0.991667</td>\n",
       "      <td>0.934615</td>\n",
       "      <td>0.977570</td>\n",
       "      <td>0.598608</td>\n",
       "      <td>0.892648</td>\n",
       "    </tr>\n",
       "    <tr>\n",
       "      <th>21</th>\n",
       "      <td>Chunk 3000, overlap 10%</td>\n",
       "      <td>1.000000</td>\n",
       "      <td>0.851984</td>\n",
       "      <td>1.000000</td>\n",
       "      <td>0.925000</td>\n",
       "      <td>0.973843</td>\n",
       "      <td>0.534596</td>\n",
       "      <td>0.880904</td>\n",
       "    </tr>\n",
       "    <tr>\n",
       "      <th>22</th>\n",
       "      <td>Chunk 3000, overlap 15%</td>\n",
       "      <td>0.987654</td>\n",
       "      <td>0.850571</td>\n",
       "      <td>0.972222</td>\n",
       "      <td>0.950000</td>\n",
       "      <td>0.975890</td>\n",
       "      <td>0.534769</td>\n",
       "      <td>0.878518</td>\n",
       "    </tr>\n",
       "    <tr>\n",
       "      <th>23</th>\n",
       "      <td>Chunk 3000, overlap 20%</td>\n",
       "      <td>1.000000</td>\n",
       "      <td>0.852384</td>\n",
       "      <td>0.991667</td>\n",
       "      <td>0.950000</td>\n",
       "      <td>0.975239</td>\n",
       "      <td>0.541281</td>\n",
       "      <td>0.885095</td>\n",
       "    </tr>\n",
       "    <tr>\n",
       "      <th>24</th>\n",
       "      <td>Chunk 500, overlap 15%, K=2</td>\n",
       "      <td>0.945833</td>\n",
       "      <td>0.848406</td>\n",
       "      <td>1.000000</td>\n",
       "      <td>0.972115</td>\n",
       "      <td>0.970987</td>\n",
       "      <td>0.653406</td>\n",
       "      <td>0.898458</td>\n",
       "    </tr>\n",
       "    <tr>\n",
       "      <th>25</th>\n",
       "      <td>Chunk 500, overlap 15%, K=3</td>\n",
       "      <td>0.882586</td>\n",
       "      <td>0.701695</td>\n",
       "      <td>0.939808</td>\n",
       "      <td>0.925281</td>\n",
       "      <td>0.991460</td>\n",
       "      <td>0.889948</td>\n",
       "      <td>0.888463</td>\n",
       "    </tr>\n",
       "    <tr>\n",
       "      <th>26</th>\n",
       "      <td>Chunk 500, overlap 15%, K=5</td>\n",
       "      <td>0.965608</td>\n",
       "      <td>0.873658</td>\n",
       "      <td>0.967083</td>\n",
       "      <td>1.000000</td>\n",
       "      <td>0.980351</td>\n",
       "      <td>0.649275</td>\n",
       "      <td>0.905996</td>\n",
       "    </tr>\n",
       "    <tr>\n",
       "      <th>27</th>\n",
       "      <td>Chunk 500, overlap 15%, K=6</td>\n",
       "      <td>0.983333</td>\n",
       "      <td>0.865678</td>\n",
       "      <td>0.952222</td>\n",
       "      <td>1.000000</td>\n",
       "      <td>0.979103</td>\n",
       "      <td>0.651211</td>\n",
       "      <td>0.905258</td>\n",
       "    </tr>\n",
       "    <tr>\n",
       "      <th>28</th>\n",
       "      <td>Chunk 500, overlap 15%, K=7</td>\n",
       "      <td>0.983333</td>\n",
       "      <td>0.874736</td>\n",
       "      <td>0.949960</td>\n",
       "      <td>1.000000</td>\n",
       "      <td>0.979863</td>\n",
       "      <td>0.572755</td>\n",
       "      <td>0.893441</td>\n",
       "    </tr>\n",
       "    <tr>\n",
       "      <th>29</th>\n",
       "      <td>MMR</td>\n",
       "      <td>0.802754</td>\n",
       "      <td>0.933615</td>\n",
       "      <td>0.854385</td>\n",
       "      <td>0.891667</td>\n",
       "      <td>0.984872</td>\n",
       "      <td>0.716026</td>\n",
       "      <td>0.863886</td>\n",
       "    </tr>\n",
       "    <tr>\n",
       "      <th>30</th>\n",
       "      <td>BM25</td>\n",
       "      <td>0.937017</td>\n",
       "      <td>0.890066</td>\n",
       "      <td>0.922367</td>\n",
       "      <td>0.945000</td>\n",
       "      <td>0.983907</td>\n",
       "      <td>0.664220</td>\n",
       "      <td>0.890430</td>\n",
       "    </tr>\n",
       "    <tr>\n",
       "      <th>31</th>\n",
       "      <td>Ensambler 1</td>\n",
       "      <td>1.000000</td>\n",
       "      <td>0.887128</td>\n",
       "      <td>0.918554</td>\n",
       "      <td>1.000000</td>\n",
       "      <td>0.972405</td>\n",
       "      <td>0.563561</td>\n",
       "      <td>0.890275</td>\n",
       "    </tr>\n",
       "    <tr>\n",
       "      <th>32</th>\n",
       "      <td>Ensambler 2</td>\n",
       "      <td>0.980000</td>\n",
       "      <td>0.855641</td>\n",
       "      <td>0.939841</td>\n",
       "      <td>1.000000</td>\n",
       "      <td>0.975301</td>\n",
       "      <td>0.631548</td>\n",
       "      <td>0.897055</td>\n",
       "    </tr>\n",
       "    <tr>\n",
       "      <th>33</th>\n",
       "      <td>Ensambler 3</td>\n",
       "      <td>0.957143</td>\n",
       "      <td>0.851376</td>\n",
       "      <td>0.942063</td>\n",
       "      <td>1.000000</td>\n",
       "      <td>0.972925</td>\n",
       "      <td>0.540192</td>\n",
       "      <td>0.877283</td>\n",
       "    </tr>\n",
       "    <tr>\n",
       "      <th>34</th>\n",
       "      <td>Parent Retriever 1000-200</td>\n",
       "      <td>0.848293</td>\n",
       "      <td>0.913773</td>\n",
       "      <td>0.957171</td>\n",
       "      <td>1.000000</td>\n",
       "      <td>0.978647</td>\n",
       "      <td>0.671934</td>\n",
       "      <td>0.894970</td>\n",
       "    </tr>\n",
       "    <tr>\n",
       "      <th>35</th>\n",
       "      <td>Parent Retriever 500-100</td>\n",
       "      <td>0.835530</td>\n",
       "      <td>0.901562</td>\n",
       "      <td>0.912543</td>\n",
       "      <td>0.958333</td>\n",
       "      <td>0.983373</td>\n",
       "      <td>0.717970</td>\n",
       "      <td>0.884885</td>\n",
       "    </tr>\n",
       "    <tr>\n",
       "      <th>36</th>\n",
       "      <td>Parent Retriever 1500-200</td>\n",
       "      <td>0.960000</td>\n",
       "      <td>0.884597</td>\n",
       "      <td>0.947222</td>\n",
       "      <td>1.000000</td>\n",
       "      <td>0.978609</td>\n",
       "      <td>0.641562</td>\n",
       "      <td>0.901999</td>\n",
       "    </tr>\n",
       "    <tr>\n",
       "      <th>37</th>\n",
       "      <td>Search query</td>\n",
       "      <td>0.728868</td>\n",
       "      <td>0.963367</td>\n",
       "      <td>0.874454</td>\n",
       "      <td>1.000000</td>\n",
       "      <td>0.995261</td>\n",
       "      <td>0.921657</td>\n",
       "      <td>0.913934</td>\n",
       "    </tr>\n",
       "  </tbody>\n",
       "</table>\n",
       "</div>"
      ],
      "text/plain": [
       "                         System  Faithfulness  Answer Relevancy  \\\n",
       "0                       GPT-3.5      0.817609          0.795673   \n",
       "1                         GPT-4      0.837413          0.873383   \n",
       "2                         Naive      0.987654          0.860312   \n",
       "3                     Recursive      0.987654          0.858120   \n",
       "4         Chunk 500, overlap 0%      0.930000          0.877987   \n",
       "5         Chunk 500, overlap 5%      0.936667          0.882256   \n",
       "6        Chunk 500, overlap 10%      0.940476          0.874959   \n",
       "7        Chunk 500, overlap 15%      0.987654          0.872242   \n",
       "8        Chunk 500, overlap 20%      0.935556          0.892518   \n",
       "9        Chunk 1000, overlap 0%      0.641996          0.931064   \n",
       "10       Chunk 1000, overlap 5%      0.958333          0.853123   \n",
       "11      Chunk 1000, overlap 10%      0.958333          0.860493   \n",
       "12      Chunk 1000, overlap 15%      0.986111          0.877419   \n",
       "13      Chunk 1000, overlap 20%      0.986111          0.875070   \n",
       "14       Chunk 2000, overlap 0%      1.000000          0.850555   \n",
       "15       Chunk 2000, overlap 5%      1.000000          0.845182   \n",
       "16      Chunk 2000, overlap 10%      1.000000          0.858404   \n",
       "17      Chunk 2000, overlap 15%      0.692778          0.959611   \n",
       "18      Chunk 2000, overlap 20%      1.000000          0.853904   \n",
       "19       Chunk 3000, overlap 0%      1.000000          0.852014   \n",
       "20       Chunk 3000, overlap 5%      1.000000          0.853427   \n",
       "21      Chunk 3000, overlap 10%      1.000000          0.851984   \n",
       "22      Chunk 3000, overlap 15%      0.987654          0.850571   \n",
       "23      Chunk 3000, overlap 20%      1.000000          0.852384   \n",
       "24  Chunk 500, overlap 15%, K=2      0.945833          0.848406   \n",
       "25  Chunk 500, overlap 15%, K=3      0.882586          0.701695   \n",
       "26  Chunk 500, overlap 15%, K=5      0.965608          0.873658   \n",
       "27  Chunk 500, overlap 15%, K=6      0.983333          0.865678   \n",
       "28  Chunk 500, overlap 15%, K=7      0.983333          0.874736   \n",
       "29                          MMR      0.802754          0.933615   \n",
       "30                         BM25      0.937017          0.890066   \n",
       "31                  Ensambler 1      1.000000          0.887128   \n",
       "32                  Ensambler 2      0.980000          0.855641   \n",
       "33                  Ensambler 3      0.957143          0.851376   \n",
       "34    Parent Retriever 1000-200      0.848293          0.913773   \n",
       "35     Parent Retriever 500-100      0.835530          0.901562   \n",
       "36    Parent Retriever 1500-200      0.960000          0.884597   \n",
       "37                 Search query      0.728868          0.963367   \n",
       "\n",
       "    Context Precision  Context Recall  Answer Similarity  Answer Correctness  \\\n",
       "0                 NaN             NaN           0.984847            0.648560   \n",
       "1                 NaN             NaN           0.911056            0.667323   \n",
       "2            1.000000        0.925000           0.975971            0.542932   \n",
       "3            1.000000        0.950000           0.975971            0.533491   \n",
       "4            0.983333        1.000000           0.978099            0.565855   \n",
       "5            1.000000        0.966667           0.981681            0.549027   \n",
       "6            0.991667        1.000000           0.977794            0.581521   \n",
       "7            0.983333        1.000000           0.977634            0.610610   \n",
       "8            0.991667        0.950000           0.981038            0.615212   \n",
       "9            0.866918        0.991667           0.939922            0.875984   \n",
       "10           0.963889        0.950000           0.979277            0.624804   \n",
       "11           0.963889        0.940000           0.977073            0.563398   \n",
       "12           0.958333        0.950000           0.979829            0.571016   \n",
       "13           0.980556        0.950000           0.974512            0.603851   \n",
       "14           0.991667        0.950000           0.976766            0.528189   \n",
       "15           0.975000        0.950000           0.977052            0.525371   \n",
       "16           0.991667        0.934615           0.976766            0.540821   \n",
       "17           0.904710        0.941667           0.988970            0.816572   \n",
       "18           0.975000        0.940000           0.973043            0.521741   \n",
       "19           0.991667        0.950000           0.976766            0.550811   \n",
       "20           0.991667        0.934615           0.977570            0.598608   \n",
       "21           1.000000        0.925000           0.973843            0.534596   \n",
       "22           0.972222        0.950000           0.975890            0.534769   \n",
       "23           0.991667        0.950000           0.975239            0.541281   \n",
       "24           1.000000        0.972115           0.970987            0.653406   \n",
       "25           0.939808        0.925281           0.991460            0.889948   \n",
       "26           0.967083        1.000000           0.980351            0.649275   \n",
       "27           0.952222        1.000000           0.979103            0.651211   \n",
       "28           0.949960        1.000000           0.979863            0.572755   \n",
       "29           0.854385        0.891667           0.984872            0.716026   \n",
       "30           0.922367        0.945000           0.983907            0.664220   \n",
       "31           0.918554        1.000000           0.972405            0.563561   \n",
       "32           0.939841        1.000000           0.975301            0.631548   \n",
       "33           0.942063        1.000000           0.972925            0.540192   \n",
       "34           0.957171        1.000000           0.978647            0.671934   \n",
       "35           0.912543        0.958333           0.983373            0.717970   \n",
       "36           0.947222        1.000000           0.978609            0.641562   \n",
       "37           0.874454        1.000000           0.995261            0.921657   \n",
       "\n",
       "     Average  \n",
       "0   0.831677  \n",
       "1   0.838145  \n",
       "2   0.881978  \n",
       "3   0.884206  \n",
       "4   0.889212  \n",
       "5   0.886050  \n",
       "6   0.894403  \n",
       "7   0.905246  \n",
       "8   0.894332  \n",
       "9   0.874592  \n",
       "10  0.888238  \n",
       "11  0.877198  \n",
       "12  0.887118  \n",
       "13  0.895017  \n",
       "14  0.882863  \n",
       "15  0.878768  \n",
       "16  0.883712  \n",
       "17  0.884051  \n",
       "18  0.877281  \n",
       "19  0.886876  \n",
       "20  0.892648  \n",
       "21  0.880904  \n",
       "22  0.878518  \n",
       "23  0.885095  \n",
       "24  0.898458  \n",
       "25  0.888463  \n",
       "26  0.905996  \n",
       "27  0.905258  \n",
       "28  0.893441  \n",
       "29  0.863886  \n",
       "30  0.890430  \n",
       "31  0.890275  \n",
       "32  0.897055  \n",
       "33  0.877283  \n",
       "34  0.894970  \n",
       "35  0.884885  \n",
       "36  0.901999  \n",
       "37  0.913934  "
      ]
     },
     "execution_count": 73,
     "metadata": {},
     "output_type": "execute_result"
    }
   ],
   "source": [
    "results_df = pd.concat([results_df, df_result_search_query], ignore_index=True)\n",
    "results_df"
   ]
  },
  {
   "cell_type": "markdown",
   "metadata": {},
   "source": [
    "### change model to GPT-4"
   ]
  },
  {
   "cell_type": "code",
   "execution_count": 74,
   "metadata": {},
   "outputs": [
    {
     "data": {
      "text/html": [
       "<div>\n",
       "<style scoped>\n",
       "    .dataframe tbody tr th:only-of-type {\n",
       "        vertical-align: middle;\n",
       "    }\n",
       "\n",
       "    .dataframe tbody tr th {\n",
       "        vertical-align: top;\n",
       "    }\n",
       "\n",
       "    .dataframe thead th {\n",
       "        text-align: right;\n",
       "    }\n",
       "</style>\n",
       "<table border=\"1\" class=\"dataframe\">\n",
       "  <thead>\n",
       "    <tr style=\"text-align: right;\">\n",
       "      <th></th>\n",
       "      <th>System</th>\n",
       "      <th>Faithfulness</th>\n",
       "      <th>Answer Relevancy</th>\n",
       "      <th>Context Precision</th>\n",
       "      <th>Context Recall</th>\n",
       "      <th>Answer Similarity</th>\n",
       "      <th>Answer Correctness</th>\n",
       "      <th>Average</th>\n",
       "    </tr>\n",
       "  </thead>\n",
       "  <tbody>\n",
       "    <tr>\n",
       "      <th>37</th>\n",
       "      <td>Search query</td>\n",
       "      <td>0.728868</td>\n",
       "      <td>0.963367</td>\n",
       "      <td>0.874454</td>\n",
       "      <td>1.0</td>\n",
       "      <td>0.995261</td>\n",
       "      <td>0.921657</td>\n",
       "      <td>0.913934</td>\n",
       "    </tr>\n",
       "    <tr>\n",
       "      <th>26</th>\n",
       "      <td>Chunk 500, overlap 15%, K=5</td>\n",
       "      <td>0.965608</td>\n",
       "      <td>0.873658</td>\n",
       "      <td>0.967083</td>\n",
       "      <td>1.0</td>\n",
       "      <td>0.980351</td>\n",
       "      <td>0.649275</td>\n",
       "      <td>0.905996</td>\n",
       "    </tr>\n",
       "    <tr>\n",
       "      <th>27</th>\n",
       "      <td>Chunk 500, overlap 15%, K=6</td>\n",
       "      <td>0.983333</td>\n",
       "      <td>0.865678</td>\n",
       "      <td>0.952222</td>\n",
       "      <td>1.0</td>\n",
       "      <td>0.979103</td>\n",
       "      <td>0.651211</td>\n",
       "      <td>0.905258</td>\n",
       "    </tr>\n",
       "  </tbody>\n",
       "</table>\n",
       "</div>"
      ],
      "text/plain": [
       "                         System  Faithfulness  Answer Relevancy  \\\n",
       "37                 Search query      0.728868          0.963367   \n",
       "26  Chunk 500, overlap 15%, K=5      0.965608          0.873658   \n",
       "27  Chunk 500, overlap 15%, K=6      0.983333          0.865678   \n",
       "\n",
       "    Context Precision  Context Recall  Answer Similarity  Answer Correctness  \\\n",
       "37           0.874454             1.0           0.995261            0.921657   \n",
       "26           0.967083             1.0           0.980351            0.649275   \n",
       "27           0.952222             1.0           0.979103            0.651211   \n",
       "\n",
       "     Average  \n",
       "37  0.913934  \n",
       "26  0.905996  \n",
       "27  0.905258  "
      ]
     },
     "execution_count": 74,
     "metadata": {},
     "output_type": "execute_result"
    }
   ],
   "source": [
    "top_3_highest = results_df.nlargest(3, \"Average\")\n",
    "top_3_highest"
   ]
  },
  {
   "cell_type": "code",
   "execution_count": 75,
   "metadata": {},
   "outputs": [
    {
     "name": "stderr",
     "output_type": "stream",
     "text": [
      "passing column names as 'ground_truths' is deprecated and will be removed in the next version, please use 'ground_truth' instead. Note that `ground_truth` should be of type string and not Sequence[string] like `ground_truths`\n",
      "Evaluating: 100%|██████████| 60/60 [00:14<00:00,  4.16it/s]\n"
     ]
    },
    {
     "name": "stdout",
     "output_type": "stream",
     "text": [
      "The average score is: 0.9060101034823765\n"
     ]
    },
    {
     "data": {
      "text/html": [
       "<div>\n",
       "<style scoped>\n",
       "    .dataframe tbody tr th:only-of-type {\n",
       "        vertical-align: middle;\n",
       "    }\n",
       "\n",
       "    .dataframe tbody tr th {\n",
       "        vertical-align: top;\n",
       "    }\n",
       "\n",
       "    .dataframe thead th {\n",
       "        text-align: right;\n",
       "    }\n",
       "</style>\n",
       "<table border=\"1\" class=\"dataframe\">\n",
       "  <thead>\n",
       "    <tr style=\"text-align: right;\">\n",
       "      <th></th>\n",
       "      <th>System</th>\n",
       "      <th>Faithfulness</th>\n",
       "      <th>Answer Relevancy</th>\n",
       "      <th>Context Precision</th>\n",
       "      <th>Context Recall</th>\n",
       "      <th>Answer Similarity</th>\n",
       "      <th>Answer Correctness</th>\n",
       "      <th>Average</th>\n",
       "    </tr>\n",
       "  </thead>\n",
       "  <tbody>\n",
       "    <tr>\n",
       "      <th>0</th>\n",
       "      <td>Chunk size 500, overlap 15%, K=3, GPT-4</td>\n",
       "      <td>0.98</td>\n",
       "      <td>0.882142</td>\n",
       "      <td>0.97</td>\n",
       "      <td>1.0</td>\n",
       "      <td>0.969684</td>\n",
       "      <td>0.634235</td>\n",
       "      <td>0.90601</td>\n",
       "    </tr>\n",
       "  </tbody>\n",
       "</table>\n",
       "</div>"
      ],
      "text/plain": [
       "                                    System  Faithfulness  Answer Relevancy  \\\n",
       "0  Chunk size 500, overlap 15%, K=3, GPT-4          0.98          0.882142   \n",
       "\n",
       "   Context Precision  Context Recall  Answer Similarity  Answer Correctness  \\\n",
       "0               0.97             1.0           0.969684            0.634235   \n",
       "\n",
       "   Average  \n",
       "0  0.90601  "
      ]
     },
     "execution_count": 75,
     "metadata": {},
     "output_type": "execute_result"
    }
   ],
   "source": [
    "result_k5_500_15_gpt4, results_df = run_and_evaluate(f\"Chunk size 500, overlap 15%, K=3, GPT-4\", ret, prompt, llm_gpt4, results_df)\n",
    "result_k5_500_15_gpt4"
   ]
  },
  {
   "cell_type": "code",
   "execution_count": 78,
   "metadata": {},
   "outputs": [],
   "source": [
    "replacement_map = {\n",
    "    'Chunk size 500, overlap 15%, K=3, GPT-4': 'Chunk size 500, overlap 15%, K=5, GPT-4\t'\n",
    "}\n",
    "results_df['System'] = results_df['System'].replace(replacement_map)"
   ]
  },
  {
   "cell_type": "code",
   "execution_count": 76,
   "metadata": {},
   "outputs": [],
   "source": [
    "ret_6 = db_k.as_retriever(search_kwargs={\"k\": 6})"
   ]
  },
  {
   "cell_type": "code",
   "execution_count": 77,
   "metadata": {},
   "outputs": [
    {
     "name": "stderr",
     "output_type": "stream",
     "text": [
      "passing column names as 'ground_truths' is deprecated and will be removed in the next version, please use 'ground_truth' instead. Note that `ground_truth` should be of type string and not Sequence[string] like `ground_truths`\n",
      "Evaluating:  17%|█▋        | 10/60 [00:02<00:09,  5.13it/s]Runner in Executor raised an exception\n",
      "TypeError: expected string or buffer\n",
      "Evaluating:  32%|███▏      | 19/60 [00:05<00:10,  3.82it/s]Invalid JSON response. Expected dictionary with key 'question'\n",
      "Evaluating: 100%|██████████| 60/60 [00:12<00:00,  4.69it/s]\n"
     ]
    },
    {
     "name": "stdout",
     "output_type": "stream",
     "text": [
      "The average score is: 0.8987401472001592\n"
     ]
    },
    {
     "data": {
      "text/html": [
       "<div>\n",
       "<style scoped>\n",
       "    .dataframe tbody tr th:only-of-type {\n",
       "        vertical-align: middle;\n",
       "    }\n",
       "\n",
       "    .dataframe tbody tr th {\n",
       "        vertical-align: top;\n",
       "    }\n",
       "\n",
       "    .dataframe thead th {\n",
       "        text-align: right;\n",
       "    }\n",
       "</style>\n",
       "<table border=\"1\" class=\"dataframe\">\n",
       "  <thead>\n",
       "    <tr style=\"text-align: right;\">\n",
       "      <th></th>\n",
       "      <th>System</th>\n",
       "      <th>Faithfulness</th>\n",
       "      <th>Answer Relevancy</th>\n",
       "      <th>Context Precision</th>\n",
       "      <th>Context Recall</th>\n",
       "      <th>Answer Similarity</th>\n",
       "      <th>Answer Correctness</th>\n",
       "      <th>Average</th>\n",
       "    </tr>\n",
       "  </thead>\n",
       "  <tbody>\n",
       "    <tr>\n",
       "      <th>0</th>\n",
       "      <td>Chunk size 2000, overlap 10%, K=6, GPT-4</td>\n",
       "      <td>0.81067</td>\n",
       "      <td>0.930504</td>\n",
       "      <td>0.945079</td>\n",
       "      <td>0.986667</td>\n",
       "      <td>0.974901</td>\n",
       "      <td>0.74462</td>\n",
       "      <td>0.89874</td>\n",
       "    </tr>\n",
       "  </tbody>\n",
       "</table>\n",
       "</div>"
      ],
      "text/plain": [
       "                                     System  Faithfulness  Answer Relevancy  \\\n",
       "0  Chunk size 2000, overlap 10%, K=6, GPT-4       0.81067          0.930504   \n",
       "\n",
       "   Context Precision  Context Recall  Answer Similarity  Answer Correctness  \\\n",
       "0           0.945079        0.986667           0.974901             0.74462   \n",
       "\n",
       "   Average  \n",
       "0  0.89874  "
      ]
     },
     "execution_count": 77,
     "metadata": {},
     "output_type": "execute_result"
    }
   ],
   "source": [
    "result_k6_500_15_gpt4, results_df = run_and_evaluate(f\"Chunk size 2000, overlap 10%, K=6, GPT-4\", ret_6, prompt, llm_gpt4, results_df)\n",
    "result_k6_500_15_gpt4"
   ]
  },
  {
   "cell_type": "code",
   "execution_count": 79,
   "metadata": {},
   "outputs": [
    {
     "name": "stderr",
     "output_type": "stream",
     "text": [
      "passing column names as 'ground_truths' is deprecated and will be removed in the next version, please use 'ground_truth' instead. Note that `ground_truth` should be of type string and not Sequence[string] like `ground_truths`\n",
      "Evaluating:  22%|██▏       | 13/60 [00:04<00:17,  2.64it/s]Runner in Executor raised an exception\n",
      "TypeError: expected string or buffer\n",
      "Runner in Executor raised an exception\n",
      "TypeError: expected string or buffer\n",
      "Evaluating:  32%|███▏      | 19/60 [00:05<00:09,  4.40it/s]Runner in Executor raised an exception\n",
      "TypeError: expected string or buffer\n",
      "Evaluating: 100%|██████████| 60/60 [00:11<00:00,  5.36it/s]\n"
     ]
    },
    {
     "data": {
      "text/plain": [
       "{'faithfulness': 0.9485, 'answer_relevancy': 0.8255, 'context_precision': 0.8207, 'context_recall': 0.8986, 'answer_similarity': 0.9381, 'answer_correctness': 0.8848}"
      ]
     },
     "execution_count": 79,
     "metadata": {},
     "output_type": "execute_result"
    }
   ],
   "source": [
    "answers_final = []\n",
    "contexts_final = []\n",
    "# retriever_context_q = EnsembleRetriever(retrievers=[retriever_bm25, retriever_3], weights=[0.5, 0.5])\n",
    "llm_for_context =(\n",
    "    { \"question\": itemgetter(\"question\")}\n",
    "    | RunnablePassthrough()\n",
    "    | {\"response\": prompt_context | llm_gpt4}\n",
    ")\n",
    "for query in questions:\n",
    "    response_check = llm_for_context.invoke({\"question\": query})\n",
    "    search_query = response_check[\"response\"].content\n",
    "    retrieval_augmented_qa_chain = (\n",
    "        {\"context\": itemgetter(\"context\"), \"question\": itemgetter(\"question\")}\n",
    "        | RunnablePassthrough.assign(context=itemgetter(\"context\"))\n",
    "        | {\"response\": prompt | llm_gpt4, \"context\": itemgetter(\"context\")}\n",
    ")\n",
    "    docs = ret.get_relevant_documents(search_query)\n",
    "    formatted_docs = []\n",
    "    for doc in docs:\n",
    "        resulting_doc = doc.page_content\n",
    "        formatted_docs.append(resulting_doc)\n",
    "    try:  \n",
    "            response = retrieval_augmented_qa_chain.invoke({\"context\": formatted_docs, \"question\": query})\n",
    "            # Access the response content\n",
    "            answers_final.append(response[\"response\"].content)\n",
    "            contexts_final.append(formatted_docs)  \n",
    "    except Exception as e:  \n",
    "            print(f\"Warning: {e}\" + \"on the following question: \" + query)  \n",
    "            answers_final.append(\"No answer\")\n",
    "            contexts_final.append(formatted_docs)\n",
    "\n",
    "\n",
    "result_search_query_gpt4 = evaluation_rag(questions, answers_final, contexts_final, ground_truths)\n",
    "result_search_query_gpt4"
   ]
  },
  {
   "cell_type": "code",
   "execution_count": 82,
   "metadata": {},
   "outputs": [
    {
     "name": "stdout",
     "output_type": "stream",
     "text": [
      "The average score is: 0.8860074455725125\n"
     ]
    },
    {
     "data": {
      "text/html": [
       "<div>\n",
       "<style scoped>\n",
       "    .dataframe tbody tr th:only-of-type {\n",
       "        vertical-align: middle;\n",
       "    }\n",
       "\n",
       "    .dataframe tbody tr th {\n",
       "        vertical-align: top;\n",
       "    }\n",
       "\n",
       "    .dataframe thead th {\n",
       "        text-align: right;\n",
       "    }\n",
       "</style>\n",
       "<table border=\"1\" class=\"dataframe\">\n",
       "  <thead>\n",
       "    <tr style=\"text-align: right;\">\n",
       "      <th></th>\n",
       "      <th>System</th>\n",
       "      <th>Faithfulness</th>\n",
       "      <th>Answer Relevancy</th>\n",
       "      <th>Context Precision</th>\n",
       "      <th>Context Recall</th>\n",
       "      <th>Answer Similarity</th>\n",
       "      <th>Answer Correctness</th>\n",
       "      <th>Average</th>\n",
       "    </tr>\n",
       "  </thead>\n",
       "  <tbody>\n",
       "    <tr>\n",
       "      <th>0</th>\n",
       "      <td>GPT-3.5</td>\n",
       "      <td>0.817609</td>\n",
       "      <td>0.795673</td>\n",
       "      <td>NaN</td>\n",
       "      <td>NaN</td>\n",
       "      <td>0.984847</td>\n",
       "      <td>0.648560</td>\n",
       "      <td>0.831677</td>\n",
       "    </tr>\n",
       "    <tr>\n",
       "      <th>1</th>\n",
       "      <td>GPT-4</td>\n",
       "      <td>0.837413</td>\n",
       "      <td>0.873383</td>\n",
       "      <td>NaN</td>\n",
       "      <td>NaN</td>\n",
       "      <td>0.911056</td>\n",
       "      <td>0.667323</td>\n",
       "      <td>0.838145</td>\n",
       "    </tr>\n",
       "    <tr>\n",
       "      <th>2</th>\n",
       "      <td>Naive</td>\n",
       "      <td>0.987654</td>\n",
       "      <td>0.860312</td>\n",
       "      <td>1.000000</td>\n",
       "      <td>0.925000</td>\n",
       "      <td>0.975971</td>\n",
       "      <td>0.542932</td>\n",
       "      <td>0.881978</td>\n",
       "    </tr>\n",
       "    <tr>\n",
       "      <th>3</th>\n",
       "      <td>Recursive</td>\n",
       "      <td>0.987654</td>\n",
       "      <td>0.858120</td>\n",
       "      <td>1.000000</td>\n",
       "      <td>0.950000</td>\n",
       "      <td>0.975971</td>\n",
       "      <td>0.533491</td>\n",
       "      <td>0.884206</td>\n",
       "    </tr>\n",
       "    <tr>\n",
       "      <th>4</th>\n",
       "      <td>Chunk 500, overlap 0%</td>\n",
       "      <td>0.930000</td>\n",
       "      <td>0.877987</td>\n",
       "      <td>0.983333</td>\n",
       "      <td>1.000000</td>\n",
       "      <td>0.978099</td>\n",
       "      <td>0.565855</td>\n",
       "      <td>0.889212</td>\n",
       "    </tr>\n",
       "    <tr>\n",
       "      <th>5</th>\n",
       "      <td>Chunk 500, overlap 5%</td>\n",
       "      <td>0.936667</td>\n",
       "      <td>0.882256</td>\n",
       "      <td>1.000000</td>\n",
       "      <td>0.966667</td>\n",
       "      <td>0.981681</td>\n",
       "      <td>0.549027</td>\n",
       "      <td>0.886050</td>\n",
       "    </tr>\n",
       "    <tr>\n",
       "      <th>6</th>\n",
       "      <td>Chunk 500, overlap 10%</td>\n",
       "      <td>0.940476</td>\n",
       "      <td>0.874959</td>\n",
       "      <td>0.991667</td>\n",
       "      <td>1.000000</td>\n",
       "      <td>0.977794</td>\n",
       "      <td>0.581521</td>\n",
       "      <td>0.894403</td>\n",
       "    </tr>\n",
       "    <tr>\n",
       "      <th>7</th>\n",
       "      <td>Chunk 500, overlap 15%</td>\n",
       "      <td>0.987654</td>\n",
       "      <td>0.872242</td>\n",
       "      <td>0.983333</td>\n",
       "      <td>1.000000</td>\n",
       "      <td>0.977634</td>\n",
       "      <td>0.610610</td>\n",
       "      <td>0.905246</td>\n",
       "    </tr>\n",
       "    <tr>\n",
       "      <th>8</th>\n",
       "      <td>Chunk 500, overlap 20%</td>\n",
       "      <td>0.935556</td>\n",
       "      <td>0.892518</td>\n",
       "      <td>0.991667</td>\n",
       "      <td>0.950000</td>\n",
       "      <td>0.981038</td>\n",
       "      <td>0.615212</td>\n",
       "      <td>0.894332</td>\n",
       "    </tr>\n",
       "    <tr>\n",
       "      <th>9</th>\n",
       "      <td>Chunk 1000, overlap 0%</td>\n",
       "      <td>0.641996</td>\n",
       "      <td>0.931064</td>\n",
       "      <td>0.866918</td>\n",
       "      <td>0.991667</td>\n",
       "      <td>0.939922</td>\n",
       "      <td>0.875984</td>\n",
       "      <td>0.874592</td>\n",
       "    </tr>\n",
       "    <tr>\n",
       "      <th>10</th>\n",
       "      <td>Chunk 1000, overlap 5%</td>\n",
       "      <td>0.958333</td>\n",
       "      <td>0.853123</td>\n",
       "      <td>0.963889</td>\n",
       "      <td>0.950000</td>\n",
       "      <td>0.979277</td>\n",
       "      <td>0.624804</td>\n",
       "      <td>0.888238</td>\n",
       "    </tr>\n",
       "    <tr>\n",
       "      <th>11</th>\n",
       "      <td>Chunk 1000, overlap 10%</td>\n",
       "      <td>0.958333</td>\n",
       "      <td>0.860493</td>\n",
       "      <td>0.963889</td>\n",
       "      <td>0.940000</td>\n",
       "      <td>0.977073</td>\n",
       "      <td>0.563398</td>\n",
       "      <td>0.877198</td>\n",
       "    </tr>\n",
       "    <tr>\n",
       "      <th>12</th>\n",
       "      <td>Chunk 1000, overlap 15%</td>\n",
       "      <td>0.986111</td>\n",
       "      <td>0.877419</td>\n",
       "      <td>0.958333</td>\n",
       "      <td>0.950000</td>\n",
       "      <td>0.979829</td>\n",
       "      <td>0.571016</td>\n",
       "      <td>0.887118</td>\n",
       "    </tr>\n",
       "    <tr>\n",
       "      <th>13</th>\n",
       "      <td>Chunk 1000, overlap 20%</td>\n",
       "      <td>0.986111</td>\n",
       "      <td>0.875070</td>\n",
       "      <td>0.980556</td>\n",
       "      <td>0.950000</td>\n",
       "      <td>0.974512</td>\n",
       "      <td>0.603851</td>\n",
       "      <td>0.895017</td>\n",
       "    </tr>\n",
       "    <tr>\n",
       "      <th>14</th>\n",
       "      <td>Chunk 2000, overlap 0%</td>\n",
       "      <td>1.000000</td>\n",
       "      <td>0.850555</td>\n",
       "      <td>0.991667</td>\n",
       "      <td>0.950000</td>\n",
       "      <td>0.976766</td>\n",
       "      <td>0.528189</td>\n",
       "      <td>0.882863</td>\n",
       "    </tr>\n",
       "    <tr>\n",
       "      <th>15</th>\n",
       "      <td>Chunk 2000, overlap 5%</td>\n",
       "      <td>1.000000</td>\n",
       "      <td>0.845182</td>\n",
       "      <td>0.975000</td>\n",
       "      <td>0.950000</td>\n",
       "      <td>0.977052</td>\n",
       "      <td>0.525371</td>\n",
       "      <td>0.878768</td>\n",
       "    </tr>\n",
       "    <tr>\n",
       "      <th>16</th>\n",
       "      <td>Chunk 2000, overlap 10%</td>\n",
       "      <td>1.000000</td>\n",
       "      <td>0.858404</td>\n",
       "      <td>0.991667</td>\n",
       "      <td>0.934615</td>\n",
       "      <td>0.976766</td>\n",
       "      <td>0.540821</td>\n",
       "      <td>0.883712</td>\n",
       "    </tr>\n",
       "    <tr>\n",
       "      <th>17</th>\n",
       "      <td>Chunk 2000, overlap 15%</td>\n",
       "      <td>0.692778</td>\n",
       "      <td>0.959611</td>\n",
       "      <td>0.904710</td>\n",
       "      <td>0.941667</td>\n",
       "      <td>0.988970</td>\n",
       "      <td>0.816572</td>\n",
       "      <td>0.884051</td>\n",
       "    </tr>\n",
       "    <tr>\n",
       "      <th>18</th>\n",
       "      <td>Chunk 2000, overlap 20%</td>\n",
       "      <td>1.000000</td>\n",
       "      <td>0.853904</td>\n",
       "      <td>0.975000</td>\n",
       "      <td>0.940000</td>\n",
       "      <td>0.973043</td>\n",
       "      <td>0.521741</td>\n",
       "      <td>0.877281</td>\n",
       "    </tr>\n",
       "    <tr>\n",
       "      <th>19</th>\n",
       "      <td>Chunk 3000, overlap 0%</td>\n",
       "      <td>1.000000</td>\n",
       "      <td>0.852014</td>\n",
       "      <td>0.991667</td>\n",
       "      <td>0.950000</td>\n",
       "      <td>0.976766</td>\n",
       "      <td>0.550811</td>\n",
       "      <td>0.886876</td>\n",
       "    </tr>\n",
       "    <tr>\n",
       "      <th>20</th>\n",
       "      <td>Chunk 3000, overlap 5%</td>\n",
       "      <td>1.000000</td>\n",
       "      <td>0.853427</td>\n",
       "      <td>0.991667</td>\n",
       "      <td>0.934615</td>\n",
       "      <td>0.977570</td>\n",
       "      <td>0.598608</td>\n",
       "      <td>0.892648</td>\n",
       "    </tr>\n",
       "    <tr>\n",
       "      <th>21</th>\n",
       "      <td>Chunk 3000, overlap 10%</td>\n",
       "      <td>1.000000</td>\n",
       "      <td>0.851984</td>\n",
       "      <td>1.000000</td>\n",
       "      <td>0.925000</td>\n",
       "      <td>0.973843</td>\n",
       "      <td>0.534596</td>\n",
       "      <td>0.880904</td>\n",
       "    </tr>\n",
       "    <tr>\n",
       "      <th>22</th>\n",
       "      <td>Chunk 3000, overlap 15%</td>\n",
       "      <td>0.987654</td>\n",
       "      <td>0.850571</td>\n",
       "      <td>0.972222</td>\n",
       "      <td>0.950000</td>\n",
       "      <td>0.975890</td>\n",
       "      <td>0.534769</td>\n",
       "      <td>0.878518</td>\n",
       "    </tr>\n",
       "    <tr>\n",
       "      <th>23</th>\n",
       "      <td>Chunk 3000, overlap 20%</td>\n",
       "      <td>1.000000</td>\n",
       "      <td>0.852384</td>\n",
       "      <td>0.991667</td>\n",
       "      <td>0.950000</td>\n",
       "      <td>0.975239</td>\n",
       "      <td>0.541281</td>\n",
       "      <td>0.885095</td>\n",
       "    </tr>\n",
       "    <tr>\n",
       "      <th>24</th>\n",
       "      <td>Chunk 500, overlap 15%, K=2</td>\n",
       "      <td>0.945833</td>\n",
       "      <td>0.848406</td>\n",
       "      <td>1.000000</td>\n",
       "      <td>0.972115</td>\n",
       "      <td>0.970987</td>\n",
       "      <td>0.653406</td>\n",
       "      <td>0.898458</td>\n",
       "    </tr>\n",
       "    <tr>\n",
       "      <th>25</th>\n",
       "      <td>Chunk 500, overlap 15%, K=3</td>\n",
       "      <td>0.882586</td>\n",
       "      <td>0.701695</td>\n",
       "      <td>0.939808</td>\n",
       "      <td>0.925281</td>\n",
       "      <td>0.991460</td>\n",
       "      <td>0.889948</td>\n",
       "      <td>0.888463</td>\n",
       "    </tr>\n",
       "    <tr>\n",
       "      <th>26</th>\n",
       "      <td>Chunk 500, overlap 15%, K=5</td>\n",
       "      <td>0.965608</td>\n",
       "      <td>0.873658</td>\n",
       "      <td>0.967083</td>\n",
       "      <td>1.000000</td>\n",
       "      <td>0.980351</td>\n",
       "      <td>0.649275</td>\n",
       "      <td>0.905996</td>\n",
       "    </tr>\n",
       "    <tr>\n",
       "      <th>27</th>\n",
       "      <td>Chunk 500, overlap 15%, K=6</td>\n",
       "      <td>0.983333</td>\n",
       "      <td>0.865678</td>\n",
       "      <td>0.952222</td>\n",
       "      <td>1.000000</td>\n",
       "      <td>0.979103</td>\n",
       "      <td>0.651211</td>\n",
       "      <td>0.905258</td>\n",
       "    </tr>\n",
       "    <tr>\n",
       "      <th>28</th>\n",
       "      <td>Chunk 500, overlap 15%, K=7</td>\n",
       "      <td>0.983333</td>\n",
       "      <td>0.874736</td>\n",
       "      <td>0.949960</td>\n",
       "      <td>1.000000</td>\n",
       "      <td>0.979863</td>\n",
       "      <td>0.572755</td>\n",
       "      <td>0.893441</td>\n",
       "    </tr>\n",
       "    <tr>\n",
       "      <th>29</th>\n",
       "      <td>MMR</td>\n",
       "      <td>0.802754</td>\n",
       "      <td>0.933615</td>\n",
       "      <td>0.854385</td>\n",
       "      <td>0.891667</td>\n",
       "      <td>0.984872</td>\n",
       "      <td>0.716026</td>\n",
       "      <td>0.863886</td>\n",
       "    </tr>\n",
       "    <tr>\n",
       "      <th>30</th>\n",
       "      <td>BM25</td>\n",
       "      <td>0.937017</td>\n",
       "      <td>0.890066</td>\n",
       "      <td>0.922367</td>\n",
       "      <td>0.945000</td>\n",
       "      <td>0.983907</td>\n",
       "      <td>0.664220</td>\n",
       "      <td>0.890430</td>\n",
       "    </tr>\n",
       "    <tr>\n",
       "      <th>31</th>\n",
       "      <td>Ensambler 1</td>\n",
       "      <td>1.000000</td>\n",
       "      <td>0.887128</td>\n",
       "      <td>0.918554</td>\n",
       "      <td>1.000000</td>\n",
       "      <td>0.972405</td>\n",
       "      <td>0.563561</td>\n",
       "      <td>0.890275</td>\n",
       "    </tr>\n",
       "    <tr>\n",
       "      <th>32</th>\n",
       "      <td>Ensambler 2</td>\n",
       "      <td>0.980000</td>\n",
       "      <td>0.855641</td>\n",
       "      <td>0.939841</td>\n",
       "      <td>1.000000</td>\n",
       "      <td>0.975301</td>\n",
       "      <td>0.631548</td>\n",
       "      <td>0.897055</td>\n",
       "    </tr>\n",
       "    <tr>\n",
       "      <th>33</th>\n",
       "      <td>Ensambler 3</td>\n",
       "      <td>0.957143</td>\n",
       "      <td>0.851376</td>\n",
       "      <td>0.942063</td>\n",
       "      <td>1.000000</td>\n",
       "      <td>0.972925</td>\n",
       "      <td>0.540192</td>\n",
       "      <td>0.877283</td>\n",
       "    </tr>\n",
       "    <tr>\n",
       "      <th>34</th>\n",
       "      <td>Parent Retriever 1000-200</td>\n",
       "      <td>0.848293</td>\n",
       "      <td>0.913773</td>\n",
       "      <td>0.957171</td>\n",
       "      <td>1.000000</td>\n",
       "      <td>0.978647</td>\n",
       "      <td>0.671934</td>\n",
       "      <td>0.894970</td>\n",
       "    </tr>\n",
       "    <tr>\n",
       "      <th>35</th>\n",
       "      <td>Parent Retriever 500-100</td>\n",
       "      <td>0.835530</td>\n",
       "      <td>0.901562</td>\n",
       "      <td>0.912543</td>\n",
       "      <td>0.958333</td>\n",
       "      <td>0.983373</td>\n",
       "      <td>0.717970</td>\n",
       "      <td>0.884885</td>\n",
       "    </tr>\n",
       "    <tr>\n",
       "      <th>36</th>\n",
       "      <td>Parent Retriever 1500-200</td>\n",
       "      <td>0.960000</td>\n",
       "      <td>0.884597</td>\n",
       "      <td>0.947222</td>\n",
       "      <td>1.000000</td>\n",
       "      <td>0.978609</td>\n",
       "      <td>0.641562</td>\n",
       "      <td>0.901999</td>\n",
       "    </tr>\n",
       "    <tr>\n",
       "      <th>37</th>\n",
       "      <td>Search query</td>\n",
       "      <td>0.728868</td>\n",
       "      <td>0.963367</td>\n",
       "      <td>0.874454</td>\n",
       "      <td>1.000000</td>\n",
       "      <td>0.995261</td>\n",
       "      <td>0.921657</td>\n",
       "      <td>0.913934</td>\n",
       "    </tr>\n",
       "    <tr>\n",
       "      <th>38</th>\n",
       "      <td>Chunk size 500, overlap 15%, K=5, GPT-4\\t</td>\n",
       "      <td>0.980000</td>\n",
       "      <td>0.882142</td>\n",
       "      <td>0.970000</td>\n",
       "      <td>1.000000</td>\n",
       "      <td>0.969684</td>\n",
       "      <td>0.634235</td>\n",
       "      <td>0.906010</td>\n",
       "    </tr>\n",
       "    <tr>\n",
       "      <th>39</th>\n",
       "      <td>Chunk size 2000, overlap 10%, K=6, GPT-4</td>\n",
       "      <td>0.810670</td>\n",
       "      <td>0.930504</td>\n",
       "      <td>0.945079</td>\n",
       "      <td>0.986667</td>\n",
       "      <td>0.974901</td>\n",
       "      <td>0.744620</td>\n",
       "      <td>0.898740</td>\n",
       "    </tr>\n",
       "    <tr>\n",
       "      <th>40</th>\n",
       "      <td>Search query GPT4</td>\n",
       "      <td>0.948468</td>\n",
       "      <td>0.825509</td>\n",
       "      <td>0.820662</td>\n",
       "      <td>0.898570</td>\n",
       "      <td>0.938055</td>\n",
       "      <td>0.884781</td>\n",
       "      <td>0.886007</td>\n",
       "    </tr>\n",
       "  </tbody>\n",
       "</table>\n",
       "</div>"
      ],
      "text/plain": [
       "                                       System  Faithfulness  Answer Relevancy  \\\n",
       "0                                     GPT-3.5      0.817609          0.795673   \n",
       "1                                       GPT-4      0.837413          0.873383   \n",
       "2                                       Naive      0.987654          0.860312   \n",
       "3                                   Recursive      0.987654          0.858120   \n",
       "4                       Chunk 500, overlap 0%      0.930000          0.877987   \n",
       "5                       Chunk 500, overlap 5%      0.936667          0.882256   \n",
       "6                      Chunk 500, overlap 10%      0.940476          0.874959   \n",
       "7                      Chunk 500, overlap 15%      0.987654          0.872242   \n",
       "8                      Chunk 500, overlap 20%      0.935556          0.892518   \n",
       "9                      Chunk 1000, overlap 0%      0.641996          0.931064   \n",
       "10                     Chunk 1000, overlap 5%      0.958333          0.853123   \n",
       "11                    Chunk 1000, overlap 10%      0.958333          0.860493   \n",
       "12                    Chunk 1000, overlap 15%      0.986111          0.877419   \n",
       "13                    Chunk 1000, overlap 20%      0.986111          0.875070   \n",
       "14                     Chunk 2000, overlap 0%      1.000000          0.850555   \n",
       "15                     Chunk 2000, overlap 5%      1.000000          0.845182   \n",
       "16                    Chunk 2000, overlap 10%      1.000000          0.858404   \n",
       "17                    Chunk 2000, overlap 15%      0.692778          0.959611   \n",
       "18                    Chunk 2000, overlap 20%      1.000000          0.853904   \n",
       "19                     Chunk 3000, overlap 0%      1.000000          0.852014   \n",
       "20                     Chunk 3000, overlap 5%      1.000000          0.853427   \n",
       "21                    Chunk 3000, overlap 10%      1.000000          0.851984   \n",
       "22                    Chunk 3000, overlap 15%      0.987654          0.850571   \n",
       "23                    Chunk 3000, overlap 20%      1.000000          0.852384   \n",
       "24                Chunk 500, overlap 15%, K=2      0.945833          0.848406   \n",
       "25                Chunk 500, overlap 15%, K=3      0.882586          0.701695   \n",
       "26                Chunk 500, overlap 15%, K=5      0.965608          0.873658   \n",
       "27                Chunk 500, overlap 15%, K=6      0.983333          0.865678   \n",
       "28                Chunk 500, overlap 15%, K=7      0.983333          0.874736   \n",
       "29                                        MMR      0.802754          0.933615   \n",
       "30                                       BM25      0.937017          0.890066   \n",
       "31                                Ensambler 1      1.000000          0.887128   \n",
       "32                                Ensambler 2      0.980000          0.855641   \n",
       "33                                Ensambler 3      0.957143          0.851376   \n",
       "34                  Parent Retriever 1000-200      0.848293          0.913773   \n",
       "35                   Parent Retriever 500-100      0.835530          0.901562   \n",
       "36                  Parent Retriever 1500-200      0.960000          0.884597   \n",
       "37                               Search query      0.728868          0.963367   \n",
       "38  Chunk size 500, overlap 15%, K=5, GPT-4\\t      0.980000          0.882142   \n",
       "39   Chunk size 2000, overlap 10%, K=6, GPT-4      0.810670          0.930504   \n",
       "40                          Search query GPT4      0.948468          0.825509   \n",
       "\n",
       "    Context Precision  Context Recall  Answer Similarity  Answer Correctness  \\\n",
       "0                 NaN             NaN           0.984847            0.648560   \n",
       "1                 NaN             NaN           0.911056            0.667323   \n",
       "2            1.000000        0.925000           0.975971            0.542932   \n",
       "3            1.000000        0.950000           0.975971            0.533491   \n",
       "4            0.983333        1.000000           0.978099            0.565855   \n",
       "5            1.000000        0.966667           0.981681            0.549027   \n",
       "6            0.991667        1.000000           0.977794            0.581521   \n",
       "7            0.983333        1.000000           0.977634            0.610610   \n",
       "8            0.991667        0.950000           0.981038            0.615212   \n",
       "9            0.866918        0.991667           0.939922            0.875984   \n",
       "10           0.963889        0.950000           0.979277            0.624804   \n",
       "11           0.963889        0.940000           0.977073            0.563398   \n",
       "12           0.958333        0.950000           0.979829            0.571016   \n",
       "13           0.980556        0.950000           0.974512            0.603851   \n",
       "14           0.991667        0.950000           0.976766            0.528189   \n",
       "15           0.975000        0.950000           0.977052            0.525371   \n",
       "16           0.991667        0.934615           0.976766            0.540821   \n",
       "17           0.904710        0.941667           0.988970            0.816572   \n",
       "18           0.975000        0.940000           0.973043            0.521741   \n",
       "19           0.991667        0.950000           0.976766            0.550811   \n",
       "20           0.991667        0.934615           0.977570            0.598608   \n",
       "21           1.000000        0.925000           0.973843            0.534596   \n",
       "22           0.972222        0.950000           0.975890            0.534769   \n",
       "23           0.991667        0.950000           0.975239            0.541281   \n",
       "24           1.000000        0.972115           0.970987            0.653406   \n",
       "25           0.939808        0.925281           0.991460            0.889948   \n",
       "26           0.967083        1.000000           0.980351            0.649275   \n",
       "27           0.952222        1.000000           0.979103            0.651211   \n",
       "28           0.949960        1.000000           0.979863            0.572755   \n",
       "29           0.854385        0.891667           0.984872            0.716026   \n",
       "30           0.922367        0.945000           0.983907            0.664220   \n",
       "31           0.918554        1.000000           0.972405            0.563561   \n",
       "32           0.939841        1.000000           0.975301            0.631548   \n",
       "33           0.942063        1.000000           0.972925            0.540192   \n",
       "34           0.957171        1.000000           0.978647            0.671934   \n",
       "35           0.912543        0.958333           0.983373            0.717970   \n",
       "36           0.947222        1.000000           0.978609            0.641562   \n",
       "37           0.874454        1.000000           0.995261            0.921657   \n",
       "38           0.970000        1.000000           0.969684            0.634235   \n",
       "39           0.945079        0.986667           0.974901            0.744620   \n",
       "40           0.820662        0.898570           0.938055            0.884781   \n",
       "\n",
       "     Average  \n",
       "0   0.831677  \n",
       "1   0.838145  \n",
       "2   0.881978  \n",
       "3   0.884206  \n",
       "4   0.889212  \n",
       "5   0.886050  \n",
       "6   0.894403  \n",
       "7   0.905246  \n",
       "8   0.894332  \n",
       "9   0.874592  \n",
       "10  0.888238  \n",
       "11  0.877198  \n",
       "12  0.887118  \n",
       "13  0.895017  \n",
       "14  0.882863  \n",
       "15  0.878768  \n",
       "16  0.883712  \n",
       "17  0.884051  \n",
       "18  0.877281  \n",
       "19  0.886876  \n",
       "20  0.892648  \n",
       "21  0.880904  \n",
       "22  0.878518  \n",
       "23  0.885095  \n",
       "24  0.898458  \n",
       "25  0.888463  \n",
       "26  0.905996  \n",
       "27  0.905258  \n",
       "28  0.893441  \n",
       "29  0.863886  \n",
       "30  0.890430  \n",
       "31  0.890275  \n",
       "32  0.897055  \n",
       "33  0.877283  \n",
       "34  0.894970  \n",
       "35  0.884885  \n",
       "36  0.901999  \n",
       "37  0.913934  \n",
       "38  0.906010  \n",
       "39  0.898740  \n",
       "40  0.886007  "
      ]
     },
     "execution_count": 82,
     "metadata": {},
     "output_type": "execute_result"
    }
   ],
   "source": [
    "average = dictionary(result_search_query_gpt4)\n",
    "    # Create a dictionary to store the results\n",
    "system_results = {\n",
    "        \"System\": \"Search query GPT4\",\n",
    "        \"Faithfulness\": result_search_query_gpt4[\"faithfulness\"],\n",
    "        \"Answer Relevancy\": result_search_query_gpt4[\"answer_relevancy\"],\n",
    "        \"Context Precision\": result_search_query_gpt4[\"context_precision\"],\n",
    "        \"Context Recall\": result_search_query_gpt4[\"context_recall\"],\n",
    "        \"Answer Similarity\": result_search_query_gpt4[\"answer_similarity\"],\n",
    "        \"Answer Correctness\": result_search_query_gpt4[\"answer_correctness\"],\n",
    "        \"Average\": average\n",
    "    }\n",
    "df_result_search_query = pd.DataFrame([system_results])\n",
    "results_df = pd.concat([results_df, df_result_search_query], ignore_index=True)\n",
    "results_df"
   ]
  },
  {
   "cell_type": "code",
   "execution_count": 83,
   "metadata": {},
   "outputs": [],
   "source": [
    "results_df.to_csv(f\"../papers/results/results_reporting.csv\")"
   ]
  }
 ],
 "metadata": {
  "kernelspec": {
   "display_name": ".venv",
   "language": "python",
   "name": "python3"
  },
  "language_info": {
   "codemirror_mode": {
    "name": "ipython",
    "version": 3
   },
   "file_extension": ".py",
   "mimetype": "text/x-python",
   "name": "python",
   "nbconvert_exporter": "python",
   "pygments_lexer": "ipython3",
   "version": "3.11.5"
  }
 },
 "nbformat": 4,
 "nbformat_minor": 2
}
